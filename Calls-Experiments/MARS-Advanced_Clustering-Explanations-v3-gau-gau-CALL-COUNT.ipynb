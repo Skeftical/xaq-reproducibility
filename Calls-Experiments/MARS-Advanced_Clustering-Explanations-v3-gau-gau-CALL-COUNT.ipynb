{
 "cells": [
  {
   "cell_type": "code",
   "execution_count": 1,
   "metadata": {
    "collapsed": true
   },
   "outputs": [],
   "source": [
    "%matplotlib inline\n",
    "import matplotlib.pyplot as plt\n",
    "from mpl_toolkits.mplot3d import Axes3D\n",
    "import pandas as pd\n",
    "import numpy as np\n",
    "import seaborn as sns\n",
    "sns.set(style=\"white\")\n",
    "from pyearth import Earth\n",
    "from sklearn.cluster import MiniBatchKMeans\n",
    "from sklearn.model_selection import train_test_split\n",
    "from sklearn.linear_model import LinearRegression\n",
    "from sklearn import metrics as metrics\n",
    "from scipy.stats import entropy\n",
    "import math\n",
    "from pyearth import export\n",
    "from sympy import *\n",
    "import copy\n",
    "import matplotlib.transforms as transforms\n",
    "import mpl_toolkits.mplot3d.art3d as art3d\n",
    "from matplotlib.patches import Circle, PathPatch"
   ]
  },
  {
   "cell_type": "code",
   "execution_count": 46,
   "metadata": {
    "collapsed": false
   },
   "outputs": [],
   "source": [
    "data = pd.read_csv('/home/fotis/DATA/calls_data/coordinates.csv', sep=\",\", header=0)\n",
    "data2 = pd.read_csv('/home/fotis/dev_projects/spark_test/target/calls_AVG_results/calls_queries_gau_gau_varl-0.0009_varx-0.0001/part-00000', sep=\",\", header = None)"
   ]
  },
  {
   "cell_type": "code",
   "execution_count": 47,
   "metadata": {
    "collapsed": false
   },
   "outputs": [],
   "source": [
    "data.columns = ['square_id','x','y']\n",
    "data2.columns = ['x','y','l','avg','cardinality']"
   ]
  },
  {
   "cell_type": "code",
   "execution_count": 4,
   "metadata": {
    "collapsed": false
   },
   "outputs": [
    {
     "data": {
      "text/html": [
       "<div>\n",
       "<table border=\"1\" class=\"dataframe\">\n",
       "  <thead>\n",
       "    <tr style=\"text-align: right;\">\n",
       "      <th></th>\n",
       "      <th>x</th>\n",
       "      <th>y</th>\n",
       "      <th>l</th>\n",
       "      <th>avg</th>\n",
       "      <th>cardinality</th>\n",
       "    </tr>\n",
       "  </thead>\n",
       "  <tbody>\n",
       "    <tr>\n",
       "      <th>0</th>\n",
       "      <td>9.239966</td>\n",
       "      <td>45.485623</td>\n",
       "      <td>0.020169</td>\n",
       "      <td>3.130159</td>\n",
       "      <td>236</td>\n",
       "    </tr>\n",
       "    <tr>\n",
       "      <th>1</th>\n",
       "      <td>9.213068</td>\n",
       "      <td>45.361006</td>\n",
       "      <td>0.070692</td>\n",
       "      <td>0.710460</td>\n",
       "      <td>1398</td>\n",
       "    </tr>\n",
       "    <tr>\n",
       "      <th>2</th>\n",
       "      <td>9.174101</td>\n",
       "      <td>45.445664</td>\n",
       "      <td>0.070624</td>\n",
       "      <td>2.658947</td>\n",
       "      <td>2584</td>\n",
       "    </tr>\n",
       "    <tr>\n",
       "      <th>3</th>\n",
       "      <td>9.264107</td>\n",
       "      <td>45.451266</td>\n",
       "      <td>0.034225</td>\n",
       "      <td>0.996939</td>\n",
       "      <td>636</td>\n",
       "    </tr>\n",
       "    <tr>\n",
       "      <th>4</th>\n",
       "      <td>9.103237</td>\n",
       "      <td>45.412118</td>\n",
       "      <td>0.075853</td>\n",
       "      <td>1.093986</td>\n",
       "      <td>2713</td>\n",
       "    </tr>\n",
       "    <tr>\n",
       "      <th>5</th>\n",
       "      <td>9.079804</td>\n",
       "      <td>45.392557</td>\n",
       "      <td>0.092300</td>\n",
       "      <td>0.796359</td>\n",
       "      <td>2905</td>\n",
       "    </tr>\n",
       "    <tr>\n",
       "      <th>6</th>\n",
       "      <td>9.211525</td>\n",
       "      <td>45.376456</td>\n",
       "      <td>0.072100</td>\n",
       "      <td>1.030977</td>\n",
       "      <td>1803</td>\n",
       "    </tr>\n",
       "    <tr>\n",
       "      <th>7</th>\n",
       "      <td>9.260988</td>\n",
       "      <td>45.379335</td>\n",
       "      <td>0.059394</td>\n",
       "      <td>0.566927</td>\n",
       "      <td>1281</td>\n",
       "    </tr>\n",
       "    <tr>\n",
       "      <th>8</th>\n",
       "      <td>9.260984</td>\n",
       "      <td>45.463912</td>\n",
       "      <td>0.117655</td>\n",
       "      <td>1.932767</td>\n",
       "      <td>5061</td>\n",
       "    </tr>\n",
       "    <tr>\n",
       "      <th>9</th>\n",
       "      <td>9.264410</td>\n",
       "      <td>45.382324</td>\n",
       "      <td>0.064295</td>\n",
       "      <td>0.593811</td>\n",
       "      <td>1439</td>\n",
       "    </tr>\n",
       "  </tbody>\n",
       "</table>\n",
       "</div>"
      ],
      "text/plain": [
       "          x          y         l       avg  cardinality\n",
       "0  9.239966  45.485623  0.020169  3.130159          236\n",
       "1  9.213068  45.361006  0.070692  0.710460         1398\n",
       "2  9.174101  45.445664  0.070624  2.658947         2584\n",
       "3  9.264107  45.451266  0.034225  0.996939          636\n",
       "4  9.103237  45.412118  0.075853  1.093986         2713\n",
       "5  9.079804  45.392557  0.092300  0.796359         2905\n",
       "6  9.211525  45.376456  0.072100  1.030977         1803\n",
       "7  9.260988  45.379335  0.059394  0.566927         1281\n",
       "8  9.260984  45.463912  0.117655  1.932767         5061\n",
       "9  9.264410  45.382324  0.064295  0.593811         1439"
      ]
     },
     "execution_count": 4,
     "metadata": {},
     "output_type": "execute_result"
    }
   ],
   "source": [
    "data2.head(10)"
   ]
  },
  {
   "cell_type": "code",
   "execution_count": 5,
   "metadata": {
    "collapsed": false
   },
   "outputs": [
    {
     "data": {
      "text/html": [
       "<div>\n",
       "<table border=\"1\" class=\"dataframe\">\n",
       "  <thead>\n",
       "    <tr style=\"text-align: right;\">\n",
       "      <th></th>\n",
       "      <th>square_id</th>\n",
       "      <th>x</th>\n",
       "      <th>y</th>\n",
       "    </tr>\n",
       "  </thead>\n",
       "  <tbody>\n",
       "    <tr>\n",
       "      <th>0</th>\n",
       "      <td>1</td>\n",
       "      <td>9.011491</td>\n",
       "      <td>45.358801</td>\n",
       "    </tr>\n",
       "    <tr>\n",
       "      <th>1</th>\n",
       "      <td>1</td>\n",
       "      <td>9.014491</td>\n",
       "      <td>45.358801</td>\n",
       "    </tr>\n",
       "    <tr>\n",
       "      <th>2</th>\n",
       "      <td>1</td>\n",
       "      <td>9.014491</td>\n",
       "      <td>45.356686</td>\n",
       "    </tr>\n",
       "    <tr>\n",
       "      <th>3</th>\n",
       "      <td>1</td>\n",
       "      <td>9.011491</td>\n",
       "      <td>45.356686</td>\n",
       "    </tr>\n",
       "    <tr>\n",
       "      <th>4</th>\n",
       "      <td>1</td>\n",
       "      <td>9.011491</td>\n",
       "      <td>45.358801</td>\n",
       "    </tr>\n",
       "  </tbody>\n",
       "</table>\n",
       "</div>"
      ],
      "text/plain": [
       "   square_id         x          y\n",
       "0          1  9.011491  45.358801\n",
       "1          1  9.014491  45.358801\n",
       "2          1  9.014491  45.356686\n",
       "3          1  9.011491  45.356686\n",
       "4          1  9.011491  45.358801"
      ]
     },
     "execution_count": 5,
     "metadata": {},
     "output_type": "execute_result"
    }
   ],
   "source": [
    "data.head(5)"
   ]
  },
  {
   "cell_type": "code",
   "execution_count": null,
   "metadata": {
    "collapsed": false
   },
   "outputs": [],
   "source": [
    "data.reset_index().as_matrix()[:5,1:3]"
   ]
  },
  {
   "cell_type": "code",
   "execution_count": null,
   "metadata": {
    "collapsed": false
   },
   "outputs": [],
   "source": [
    "q = data2.as_matrix()[0]\n",
    "distances_for_y = np.sqrt(np.float64(np.sum(np.power(data.reset_index().as_matrix()[:,1:3]-q[:2],2),axis=1)))\n",
    "data_within = data.reset_index().as_matrix()[distances_for_y < q[2]]\n",
    "print(len(np.unique(data_within[:,0])))"
   ]
  },
  {
   "cell_type": "code",
   "execution_count": 48,
   "metadata": {
    "collapsed": false
   },
   "outputs": [
    {
     "name": "stderr",
     "output_type": "stream",
     "text": [
      "/home/fotis/.local/lib/python2.7/site-packages/ipykernel/__main__.py:1: FutureWarning: convert_objects is deprecated.  Use the data-type specific converters pd.to_datetime, pd.to_timedelta and pd.to_numeric.\n",
      "  if __name__ == '__main__':\n"
     ]
    }
   ],
   "source": [
    "data2 = data2.convert_objects(convert_numeric=True)"
   ]
  },
  {
   "cell_type": "code",
   "execution_count": 49,
   "metadata": {
    "collapsed": false
   },
   "outputs": [
    {
     "data": {
      "text/plain": [
       "<matplotlib.axes._subplots.AxesSubplot at 0x7faea85868d0>"
      ]
     },
     "execution_count": 49,
     "metadata": {},
     "output_type": "execute_result"
    },
    {
     "data": {
      "image/png": "[encoded data removed]",
      "text/plain": [
       "<matplotlib.figure.Figure at 0x7faea9e7a4d0>"
      ]
     },
     "metadata": {},
     "output_type": "display_data"
    }
   ],
   "source": [
    "data2 = data2[data2['cardinality']>0]\n",
    "data2.cardinality.apply(np.log).plot(kind='kde')"
   ]
  },
  {
   "cell_type": "code",
   "execution_count": 50,
   "metadata": {
    "collapsed": false
   },
   "outputs": [
    {
     "name": "stdout",
     "output_type": "stream",
     "text": [
      "Minimum avg : 3\n",
      "Maximum avg : 8582\n",
      "Xmin :9.01149061969\n",
      "Xmax: 9.31268826419\n",
      "Ymin : 45.3562617537\n",
      "Ymax : 45.5682140755\n",
      "Lmin : 0.0200416035807\n",
      "Lmax : 0.179113678291\n"
     ]
    }
   ],
   "source": [
    "min_of_average = data2['cardinality'].min()\n",
    "max_of_average = data2['cardinality'].max()\n",
    "xmin = data['x'].min()\n",
    "xmax = data['x'].max()\n",
    "ymin = data['y'].min()\n",
    "ymax = data['y'].max()\n",
    "lmin = data2['l'].min()\n",
    "lmax = data2['l'].max()\n",
    "print(\"Minimum avg : {0}\\nMaximum avg : {1}\".format(min_of_average, max_of_average))\n",
    "print(\"Xmin :{0}\\nXmax: {1}\".format(xmin, xmax))\n",
    "print(\"Ymin : {0}\\nYmax : {1}\".format(ymin, ymax))\n",
    "print(\"Lmin : {0}\\nLmax : {1}\".format(lmin, lmax))"
   ]
  },
  {
   "cell_type": "markdown",
   "metadata": {},
   "source": [
    "<h2>Normalizing values</h2></br>\n",
    "$$X_{norma} = \\frac{X - min(X)}{max(X) - min(X)}$$"
   ]
  },
  {
   "cell_type": "code",
   "execution_count": 51,
   "metadata": {
    "collapsed": true
   },
   "outputs": [],
   "source": [
    "#Normalize all values to (0,1)\n",
    "# data['x'] = (data['x'] - xmin) / (xmax - xmin)\n",
    "# data['y'] = (data['y'] - ymin) / (ymax - ymin)\n",
    "#Normalize all values for queries to (0,1)\n",
    "data2['x'] = (data2['x'] - xmin) / (xmax - xmin)\n",
    "data2['y'] = (data2['y'] - ymin) / (ymax - ymin)\n",
    "data2['l'] = (data2['l'] - lmin) / (lmax - lmin)\n",
    "# data2['cardinality'] = (data2['cardinality'] - min_of_cardinality) / (max_of_cardinality - min_of_cardinality)"
   ]
  },
  {
   "cell_type": "code",
   "execution_count": null,
   "metadata": {
    "collapsed": false
   },
   "outputs": [],
   "source": [
    "data2.avg.apply(np.log).plot(kind='kde')"
   ]
  },
  {
   "cell_type": "markdown",
   "metadata": {},
   "source": [
    "<h2>Pre-Learning Phase 1st Level Clustering $$\\mathbf{x}$$</h2></br>\n",
    "<b>Cluster and train model for sample 0.2 of queries</b>"
   ]
  },
  {
   "cell_type": "code",
   "execution_count": 12,
   "metadata": {
    "collapsed": true
   },
   "outputs": [],
   "source": [
    "prelearningdf = data2.sample(frac=.2)\n",
    "trainingdf = data2.drop(prelearningdf.index)"
   ]
  },
  {
   "cell_type": "code",
   "execution_count": 13,
   "metadata": {
    "collapsed": false
   },
   "outputs": [
    {
     "name": "stdout",
     "output_type": "stream",
     "text": [
      "Resulting prelearning set : 2000\n",
      "Resulting training set : 7998\n"
     ]
    }
   ],
   "source": [
    "print(\"Resulting prelearning set : {0}\\nResulting training set : {1}\".format(prelearningdf.count()[0], trainingdf.count()[0]))"
   ]
  },
  {
   "cell_type": "markdown",
   "metadata": {},
   "source": [
    "<b>Resetting Indexes</b>"
   ]
  },
  {
   "cell_type": "code",
   "execution_count": 14,
   "metadata": {
    "collapsed": true
   },
   "outputs": [],
   "source": [
    "prelearningdf = prelearningdf.set_index(np.arange(prelearningdf.count()[0]))\n",
    "trainingdf = trainingdf.set_index(np.arange(trainingdf.count()[0]))"
   ]
  },
  {
   "cell_type": "code",
   "execution_count": 15,
   "metadata": {
    "collapsed": true
   },
   "outputs": [],
   "source": [
    "X = prelearningdf[['x','y']].as_matrix()"
   ]
  },
  {
   "cell_type": "code",
   "execution_count": 20,
   "metadata": {
    "collapsed": false
   },
   "outputs": [
    {
     "data": {
      "image/png": "[encoded data removed]",
      "text/plain": [
       "<matplotlib.figure.Figure at 0x7faeaa2515d0>"
      ]
     },
     "metadata": {},
     "output_type": "display_data"
    }
   ],
   "source": [
    "#Tuning k-parameter for kmeans\n",
    "avg_vars = []\n",
    "clusters_ = range(20,150,5)\n",
    "vigil = 0.009\n",
    "c=20\n",
    "# # for c in clusters_:\n",
    "# #     var = 0\n",
    "# #     kmeans = MiniBatchKMeans(n_clusters=c, max_no_improvement=None)\n",
    "# #     kmeans.fit(X)\n",
    "# #     avg_vars.append(kmeans.inertia_)\n",
    "# init = True\n",
    "# diff = 1\n",
    "# while diff>= vigil:\n",
    "#     kmeans = MiniBatchKMeans(n_clusters=c, max_no_improvement=None)\n",
    "#     kmeans.fit(X)\n",
    "#     avg_vars.append(kmeans.inertia_)\n",
    "#     if not init:\n",
    "#         diff = (avg_vars[-2]-avg_vars[-1])\n",
    "#     else:\n",
    "#         init=False\n",
    "#     c+=5\n",
    "# c-= 5    \n",
    "# avg_vars = np.array(avg_vars)\n",
    "# selected = np.where(avg_vars == np.min(avg_vars))[0][0]\n",
    "# print(selected)\n",
    "# plt.plot(range(20,c+5,5), avg_vars)\n",
    "# plt.plot(c, avg_vars[selected],'.g')\n",
    "#End of tuning\n",
    "\n",
    "CLUSTERS = 80#clusters_[selected]\n",
    "kmeans = MiniBatchKMeans(n_clusters=CLUSTERS)\n",
    "kmeans.fit(X)\n",
    "if hasattr(kmeans, 'labels_'):\n",
    "    y_pred = kmeans.labels_.astype(np.int)\n",
    "else:\n",
    "    y_pred = kmeans.predict(X)\n",
    "\n",
    "colors = np.array([x for x in 'bgrcmykbgrcmykbgrcmykbgrcmyk'])\n",
    "colors = np.hstack([colors] * CLUSTERS)\n",
    "fig = plt.figure()\n",
    "ax = fig.add_subplot(111)\n",
    "ax.scatter(prelearningdf['x'],prelearningdf['y'],color=colors[y_pred].tolist(), s=10)\n",
    "\n",
    "if hasattr(kmeans, 'cluster_centers_'):\n",
    "    centers = kmeans.cluster_centers_\n",
    "    center_colors = colors[:len(centers)]\n",
    "    plt.scatter(centers[:, 0], centers[:, 1], s=100, c=center_colors)\n",
    "\n",
    "plt.show()"
   ]
  },
  {
   "cell_type": "markdown",
   "metadata": {},
   "source": [
    "<b>Assigning Queries to clusters</b>"
   ]
  },
  {
   "cell_type": "code",
   "execution_count": 21,
   "metadata": {
    "collapsed": true
   },
   "outputs": [],
   "source": [
    "clusters = {}\n",
    "# fig, axs = plt.subplots(ncols=5, nrows=15,figsize=(30,25))\n",
    "for i in range(len(kmeans.cluster_centers_)):\n",
    "    item = np.where(kmeans.labels_== i)\n",
    "    clusters[i] = prelearningdf.ix[item]\n",
    "#     sns.regplot(x='l', y='cardinality', data=clusters[i],fit_reg=False, ax=axs[(i/5)][(i%5)])"
   ]
  },
  {
   "cell_type": "code",
   "execution_count": 22,
   "metadata": {
    "collapsed": true
   },
   "outputs": [],
   "source": [
    "for i in clusters:\n",
    "    if clusters[i].count()[0]==0:\n",
    "        print(\"Error found cluster with samples=0\")"
   ]
  },
  {
   "cell_type": "markdown",
   "metadata": {},
   "source": [
    "<b>Checking if cardinality variance is less within cluster than before</b>"
   ]
  },
  {
   "cell_type": "code",
   "execution_count": 23,
   "metadata": {
    "collapsed": false
   },
   "outputs": [
    {
     "name": "stdout",
     "output_type": "stream",
     "text": [
      "Variance lower when clustering : 54/80 , probability 0.675000\n"
     ]
    }
   ],
   "source": [
    "#Is the variance lower when clustering ?\n",
    "t = 0\n",
    "for i in clusters:\n",
    "    if clusters[i]['cardinality'].var() < data2['cardinality'].var():\n",
    "        t+= 1\n",
    "print(\"Variance lower when clustering : %d/%d , probability %f\" % (t,len(kmeans.cluster_centers_), float(t)/len(kmeans.cluster_centers_)))"
   ]
  },
  {
   "cell_type": "code",
   "execution_count": null,
   "metadata": {
    "collapsed": true
   },
   "outputs": [],
   "source": [
    "# for i in clusters:\n",
    "#     print(\"Cluster {0}, variance : {1}\".format(i,clusters[i]['cardinality'].var()))"
   ]
  },
  {
   "cell_type": "markdown",
   "metadata": {},
   "source": [
    "<h2>Pre-Learning 2nd Level cluster $$\\theta$$</h2>\n",
    "<b>Cluster theta</b>"
   ]
  },
  {
   "cell_type": "markdown",
   "metadata": {},
   "source": [
    "<b>Resetting indexes for each cluster because we need to re-cluster</b>"
   ]
  },
  {
   "cell_type": "code",
   "execution_count": 24,
   "metadata": {
    "collapsed": true
   },
   "outputs": [],
   "source": [
    "for i in clusters:\n",
    "    clusters[i] = clusters[i].set_index(np.arange(clusters[i].count()[0]))"
   ]
  },
  {
   "cell_type": "markdown",
   "metadata": {},
   "source": [
    "<b>Datastructure to hold each subcluster associated with a cluster</b>"
   ]
  },
  {
   "cell_type": "markdown",
   "metadata": {},
   "source": [
    "<b>For every cluster, use a subclustering algorithm to cluster based on theta</b>"
   ]
  },
  {
   "cell_type": "code",
   "execution_count": 25,
   "metadata": {
    "collapsed": false
   },
   "outputs": [],
   "source": [
    "theta_centers = []\n",
    "subclusters = []\n",
    "#For each cluster\n",
    "for j in clusters:\n",
    "    T = clusters[j]['l'].as_matrix()\n",
    "    #Tuning k-parameter for kmeans\n",
    "    T = T.reshape(-1, 1)\n",
    "    avg_vars = []\n",
    "    clusters_ = range(1,4,1)\n",
    "#     for c in clusters_:\n",
    "#         var = 0\n",
    "#         t_kmeans = MiniBatchKMeans(n_clusters=c, max_no_improvement=None)\n",
    "#         t_kmeans.fit(T)\n",
    "#         for i in range(len(t_kmeans.cluster_centers_)):\n",
    "#             item = np.where(t_kmeans.labels_== i)\n",
    "#             var += clusters[j].ix[item]['l'].var()\n",
    "#         avg_vars.append(var/c)\n",
    "\n",
    "#     avg_vars = np.array(avg_vars)\n",
    "    selected = 2#np.where(avg_vars == np.min(avg_vars))[0][0]\n",
    "#     plt.plot(clusters_, avg_vars)\n",
    "#     plt.plot(clusters_[selected], avg_vars[selected],'.g')\n",
    "    #End of tuning\n",
    "    subcluster = []\n",
    "    CLUSTERS = clusters_[selected]\n",
    "    t_kmeans = MiniBatchKMeans(n_clusters=CLUSTERS)\n",
    "    t_kmeans.fit(T)\n",
    "    if hasattr(t_kmeans, 'labels_'):\n",
    "        t_pred = t_kmeans.labels_.astype(np.int)\n",
    "    else:\n",
    "        t_pred = kmeans.predict(T)\n",
    "    theta_centers.append(t_kmeans.cluster_centers_)\n",
    "    for i in range(clusters_[selected]):\n",
    "            item = np.where(t_kmeans.labels_== i)\n",
    "            s = clusters[j].ix[item]\n",
    "            subcluster.append(s)\n",
    "        \n",
    "    subclusters.append(subcluster)"
   ]
  },
  {
   "cell_type": "code",
   "execution_count": 26,
   "metadata": {
    "collapsed": false
   },
   "outputs": [
    {
     "data": {
      "image/png": "[encoded data removed]",
      "text/plain": [
       "<matplotlib.figure.Figure at 0x7faeaa0241d0>"
      ]
     },
     "metadata": {},
     "output_type": "display_data"
    }
   ],
   "source": [
    "fig = plt.figure()\n",
    "ax1 = fig.add_subplot(111, projection='3d')\n",
    "markers = ['o','v','x', '+']\n",
    "# ax.scatter(clusters[0]['x'],clusters[0]['y'],color=colors[y_pred].tolist(), s=10)\n",
    "i=0\n",
    "for s in subclusters[0]:\n",
    "        ax1.scatter(s['x'].as_matrix(),s['y'].as_matrix(),s['l'].as_matrix(), marker=markers[i])\n",
    "        i+=1"
   ]
  },
  {
   "cell_type": "code",
   "execution_count": null,
   "metadata": {
    "collapsed": true
   },
   "outputs": [],
   "source": [
    "# n_cols = len(subclusters[0])\n",
    "# fig, axs = plt.subplots(ncols=n_cols, nrows=len(subclusters),figsize=(30,25))\n",
    "# sumc = 0\n",
    "# for i in range(len(subclusters)):\n",
    "#     for j in range(len(subclusters[i])):\n",
    "#         cluster = subclusters[i][j]\n",
    "#         ax=axs[i][0]\n",
    "#         cluster['l'].plot(kind='kde',ax=ax)\n",
    "#         print(\"Cluster {0}/{1} mean is {2}\".format(i,j, cluster['l'].mean()*(lmax - lmin) + lmin))"
   ]
  },
  {
   "cell_type": "markdown",
   "metadata": {},
   "source": [
    "<b>Count for every subcluster and resetting indexes</b>"
   ]
  },
  {
   "cell_type": "code",
   "execution_count": 27,
   "metadata": {
    "collapsed": false
   },
   "outputs": [],
   "source": [
    "for i in range(len(subclusters)):\n",
    "    for j in range(len(subclusters[i])):\n",
    "#         print(\"Count for subcluster {0}/{1} : {2}\".format(i,j,subclusters[i][j].count()[0]))\n",
    "        #Reset index trainingdf = trainingdf.set_index(np.arange(trainingdf.count()[0]))\n",
    "        subclusters[i][j] = subclusters[i][j].set_index(np.arange(subclusters[i][j].count()[0])) "
   ]
  },
  {
   "cell_type": "markdown",
   "metadata": {},
   "source": [
    "<b>Creating MARS models (one per SUB-cluster)</b>"
   ]
  },
  {
   "cell_type": "code",
   "execution_count": 28,
   "metadata": {
    "collapsed": false
   },
   "outputs": [],
   "source": [
    "#Fit an Earth model for each cluster\n",
    "# f, axarr = plt.subplots(10, 2,figsize=(35,35))\n",
    "models = [{} for i in range(len(subclusters))]\n",
    "r2_avg = 0\n",
    "rmse_avg = 0\n",
    "r2_for_model = {}\n",
    "rmse_for_model = {}\n",
    "for i in range(len(subclusters)):\n",
    "    for j in range(len(subclusters[i])):\n",
    "        tcluster = subclusters[i][j]\n",
    "        tcluster = tcluster.dropna(axis=0, how='any')\n",
    "        XX = tcluster['l'].as_matrix()\n",
    "        yy = tcluster['cardinality'].as_matrix()\n",
    "#         X_train, X_test, y_train, y_test = train_test_split(\n",
    "#              XX, yy, test_size=0.1, random_state=42)\n",
    "        model = Earth(max_degree=1)\n",
    "        model.fit(XX,yy)\n",
    "        models[i][j] = [model]\n",
    "        y_hat = model.predict(XX)\n",
    "        r2 = metrics.r2_score(yy, y_hat)\n",
    "        rmse = np.sqrt(model.mse_)\n",
    "        r2_for_model[i] = r2\n",
    "        rmse_for_model[i] = rmse\n",
    "        r2_avg+=r2\n",
    "        rmse_avg+=rmse\n",
    "#         print(\"Model for cluster {0} subcluster {4}, R2 : {1}, RMSE :{2}, Size of Sample : {3}\".format(i,r2,rmse,tcluster.count()[0],j))"
   ]
  },
  {
   "cell_type": "code",
   "execution_count": null,
   "metadata": {
    "collapsed": true
   },
   "outputs": [],
   "source": [
    "# n_cols = len(subclusters[0])\n",
    "# fig, axs = plt.subplots(ncols=n_cols, nrows=len(subclusters),figsize=(30,25))\n",
    "# sumc = 0\n",
    "# for i in range(len(subclusters)):\n",
    "#     for j in range(len(subclusters[i])):\n",
    "#         cluster = subclusters[i][j]\n",
    "#         sumc+= cluster.count()[0]\n",
    "#         ax=axs[i][0]\n",
    "#         sns.regplot(x='l', y='cardinality', data=cluster,fit_reg=False, ax=ax)\n",
    "#         ax.plot(cluster['l'], models[i][j][0].predict(cluster['l'].as_matrix()), '.g')"
   ]
  },
  {
   "cell_type": "code",
   "execution_count": 29,
   "metadata": {
    "collapsed": false
   },
   "outputs": [
    {
     "name": "stdout",
     "output_type": "stream",
     "text": [
      "Average R2 : 0.975021\n",
      "Average RMSE : 36.737730\n"
     ]
    }
   ],
   "source": [
    "#PROBELMATIC len of sublcusters might not be the same for each subcluster\n",
    "print(\"Average R2 : %f\" % (r2_avg/(len(subclusters*len(subclusters[0])))))\n",
    "print(\"Average RMSE : %f\" % (rmse_avg/(len(subclusters*len(subclusters[0])))))"
   ]
  },
  {
   "cell_type": "markdown",
   "metadata": {},
   "source": [
    "<h2>Training phase</h2>"
   ]
  },
  {
   "cell_type": "code",
   "execution_count": 30,
   "metadata": {
    "collapsed": false
   },
   "outputs": [
    {
     "name": "stdout",
     "output_type": "stream",
     "text": [
      "Resulting training set : 6398\n",
      "Resulting testing set : 1600\n"
     ]
    }
   ],
   "source": [
    "testingdf = trainingdf.sample(frac=.2)\n",
    "trainingdf = trainingdf.drop(testingdf.index)\n",
    "print(\"Resulting training set : {0}\\nResulting testing set : {1}\".format(trainingdf.count()[0], testingdf.count()[0]))"
   ]
  },
  {
   "cell_type": "code",
   "execution_count": 31,
   "metadata": {
    "collapsed": true
   },
   "outputs": [],
   "source": [
    "trainingdf = trainingdf.set_index(np.arange(trainingdf.count()[0]))\n",
    "testingdf = testingdf.set_index(np.arange(testingdf.count()[0]))"
   ]
  },
  {
   "cell_type": "code",
   "execution_count": 32,
   "metadata": {
    "collapsed": true
   },
   "outputs": [],
   "source": [
    "online = trainingdf.dropna(axis=0, how='any').as_matrix()"
   ]
  },
  {
   "cell_type": "code",
   "execution_count": null,
   "metadata": {
    "collapsed": false
   },
   "outputs": [],
   "source": []
  },
  {
   "cell_type": "markdown",
   "metadata": {},
   "source": [
    "<h3>Switch Between Scenarios</h3>"
   ]
  },
  {
   "cell_type": "code",
   "execution_count": 33,
   "metadata": {
    "collapsed": true
   },
   "outputs": [],
   "source": [
    "selected_scenario = 2"
   ]
  },
  {
   "cell_type": "markdown",
   "metadata": {},
   "source": [
    "<b>Scenario 1 </b>\n",
    "- First go to closest clusterhead\n",
    "$$w_k = argmin_k \\lVert \\mathbf{w}_k - \\mathbf{x'} \\rVert $$ \n",
    "- Then go to theta clusterhead with the smallest prediction error\n",
    "$$\\theta_{k,j} = argmin_j (\\hat{y_{k,j}} - y)^2$$"
   ]
  },
  {
   "cell_type": "markdown",
   "metadata": {},
   "source": [
    "<b>Scenario 2</b>\n",
    "- Go to closest clusterhead \n",
    "$$w_k = argmin_k \\lVert \\mathbf{w}_k - \\mathbf{x'} \\rVert $$ \n",
    "- Go to theta clusterhead with the miunimum prediction error and distance from query's theta. <b>Lambda</b> is a tunable parameter\n",
    "$$\\theta_{k,j} = argmin_j  \\lambda(\\theta'-\\theta_{k,j})^2 + (1-\\lambda)(\\hat{y_{k,j}} - y')^2$$"
   ]
  },
  {
   "cell_type": "code",
   "execution_count": 34,
   "metadata": {
    "collapsed": false
   },
   "outputs": [
    {
     "name": "stdout",
     "output_type": "stream",
     "text": [
      "Executing Scenario 2\n"
     ]
    }
   ],
   "source": [
    "if selected_scenario == 2:\n",
    "    print(\"Executing Scenario 2\")\n",
    "    #Reset cluster centers as well\n",
    "    ALPHA = 0.01\n",
    "    LAMBDA = 0.5\n",
    "    subclusters_copy = copy.deepcopy(subclusters)\n",
    "    theta_centers_copy = copy.deepcopy(theta_centers) #theta positions (multiple for each clusterhead)\n",
    "    cluster_centers = copy.copy(kmeans.cluster_centers_) # x posistions of clusterheads\n",
    "    new_models = copy.deepcopy(models)\n",
    "    n_s = 20\n",
    "    t = 1 # every 20 , retrain ONLY affected MARS models\n",
    "    affected = [] #Keep a list of affected models to retrain only them\n",
    "    keys = ['x','y','l','avg']\n",
    "    traces_centers = []\n",
    "    traces_centers.append(cluster_centers) # Initialize Positions\n",
    "    traces_theta = []\n",
    "    traces_theta.append(theta_centers_copy)\n",
    "    trace_affected_x = []\n",
    "    trace_affected_y = []\n",
    "    additions = [] # 6 dimensional qx, qy, ql , cx, cy, cl (q=query, c=clusterhead)\n",
    "    side_experiment_counter = 0\n",
    "    for q in online:\n",
    "        dist = np.linalg.norm(cluster_centers - q[:2],axis=1) #Calculate distances between all neurons\n",
    "        closest_x = np.argmin(dist)\n",
    "        #Scenario 2 Go to closest X and then to theta with lowest error\n",
    "        dist_t = ((theta_centers_copy[closest_x]-q[2])**2).T\n",
    "        preds = []\n",
    "        for m in new_models[closest_x]:\n",
    "            preds.append(float(new_models[closest_x][m][-1].predict([q[2]])))\n",
    "    #     preds = [float(new_models[m][-1].predict([q[2]])) for m in new_models] #Prediction for each latest model\n",
    "        preds = np.array(preds)\n",
    "        errors = np.sqrt((preds-q[4])**2) #Error between prediction and each model (y-y_hat)**2\n",
    "        #Normalize errors\n",
    "        errors = (errors-min_of_average) / (max_of_average-min_of_average)\n",
    "    #     total_distance = dist.reshape(len(subclusters),1) + dist_t # Distance from x  + distance from theta cluster\n",
    "    #     errors = errors.reshape((len(subclusters),len(subclusters[0])))\n",
    "    #     tot_error = 0.3*(total_distance) + 0.7*(errors) #Total error\n",
    "    #     closest = np.unravel_index(tot_error.argmin(), tot_error.shape)\n",
    "        total_distance = LAMBDA*dist_t +  (1-LAMBDA)*errors # Distance from x  + distance from theta cluster\n",
    "        closest_t = np.argmin(total_distance)\n",
    "        closest = (closest_x, closest_t)\n",
    "        #Side experiment : number of times closest distance wise gives smallest prediction error\n",
    "        distwise = np.argmin(dist_t)\n",
    "        errorwise = np.argmin(errors)\n",
    "        side_experiment_counter+= distwise==errorwise\n",
    "        #Adding to cluster\n",
    "        dictionarize = dict(zip(keys, q.T))\n",
    "        subclusters_copy[closest[0]][closest[1]] = subclusters_copy[closest[0]][closest[1]].append(dictionarize, \n",
    "                                                                                                   ignore_index=True)\n",
    "        #Readjust theta\n",
    "        theta_centers_copy[closest[0]][closest[1]] += ALPHA*(q[2] - theta_centers_copy[closest[0]][closest[1]])\n",
    "        traces_theta.append(copy.copy(theta_centers_copy))\n",
    "        trace_affected_x.append(closest[0])\n",
    "        trace_affected_y.append(closest[1])\n",
    "        #Retraining every n_s steps\n",
    "        affected.append(closest)\n",
    "        if (t%n_s)==0:\n",
    "            for tpl in set(affected):\n",
    "                model = Earth(max_degree=1)\n",
    "                subclusters_copy[tpl[0]][tpl[1]] = subclusters_copy[tpl[0]][tpl[1]].dropna(axis=0, how='any')\n",
    "                xtrain_o = subclusters_copy[tpl[0]][tpl[1]]['l'].as_matrix()\n",
    "                ytrain_o = subclusters_copy[tpl[0]][tpl[1]]['cardinality'].as_matrix()\n",
    "    #             #Readjusting clusterhead\n",
    "    #             #Cannot extract mean of each subcluster, need to store sum and count for each and then compute mean.\n",
    "    #             cluster_centers[tpl[0]] = pd.concat(subclusters_copy[tpl[0]]).mean()[:2]\n",
    "    #             traces_centers.append(copy.copy(cluster_centers))\n",
    "                new_models[tpl[0]][tpl[1]].append(model.fit(xtrain_o, ytrain_o)) #Append a new model\n",
    "            affected = []\n",
    "        t+=1"
   ]
  },
  {
   "cell_type": "code",
   "execution_count": 35,
   "metadata": {
    "collapsed": false
   },
   "outputs": [
    {
     "name": "stdout",
     "output_type": "stream",
     "text": [
      "Probability of closest distance wise thetaclusterhead having the smallest error 0\n"
     ]
    }
   ],
   "source": [
    "#Side experiment results\n",
    "print(\"Probability of closest distance wise thetaclusterhead having the smallest error {0}\".format(side_experiment_counter /len(online)))"
   ]
  },
  {
   "cell_type": "code",
   "execution_count": null,
   "metadata": {
    "collapsed": true
   },
   "outputs": [],
   "source": [
    "# print(\"Total queries in clusters : {0}\".format(sumc))"
   ]
  },
  {
   "cell_type": "markdown",
   "metadata": {},
   "source": [
    "<h2>Evaluation of advanced clustering algorithm on prediction</h2>"
   ]
  },
  {
   "cell_type": "code",
   "execution_count": 36,
   "metadata": {
    "collapsed": true
   },
   "outputs": [],
   "source": [
    "onlinetest = testingdf.dropna(axis=0, how='any').as_matrix()"
   ]
  },
  {
   "cell_type": "code",
   "execution_count": 38,
   "metadata": {
    "collapsed": false
   },
   "outputs": [
    {
     "name": "stdout",
     "output_type": "stream",
     "text": [
      "R2 : 0.990517732975\n",
      "MSE: 121.942697653\n"
     ]
    }
   ],
   "source": [
    "y_pred = []\n",
    "y_actual = onlinetest[:,4]\n",
    "for q in onlinetest:\n",
    "    dist = np.linalg.norm(cluster_centers - q[:2],axis=1) #Calculate distances between all neurons\n",
    "    closest_x = np.argmin(dist)\n",
    "    dist_t = (theta_centers_copy[closest_x]-q[2])**2\n",
    "    closest_t = np.argmin(dist_t)\n",
    "    y_hat = new_models[closest_x][closest_t][-1].predict([q[2]])\n",
    "    y_pred.append(y_hat[0])\n",
    "y_pred = np.array(y_pred)\n",
    "print(\"R2 : {0}\\nMSE: {1}\".format(metrics.r2_score(y_actual, y_pred), np.sqrt(metrics.mean_squared_error(y_actual, y_pred))))"
   ]
  },
  {
   "cell_type": "code",
   "execution_count": 57,
   "metadata": {
    "collapsed": false
   },
   "outputs": [],
   "source": [
    "data_asm = data.as_matrix()\n",
    "qs = testingdf[['x','y','l']].as_matrix()"
   ]
  },
  {
   "cell_type": "code",
   "execution_count": 55,
   "metadata": {
    "collapsed": false
   },
   "outputs": [
    {
     "name": "stdout",
     "output_type": "stream",
     "text": [
      "[  9.23996621e+00   4.54856226e+01   2.01687671e-02]\n",
      "236\n"
     ]
    }
   ],
   "source": [
    "q = data2.as_matrix()[0]\n",
    "# print(q)\n",
    "l_denorm = q[2]*(lmax - lmin) + lmin\n",
    "x_denorm = q[0]*(xmax - xmin) + xmin\n",
    "y_denorm = q[1]*(ymax - ymin) + ymin\n",
    "q_denorm = np.array([x_denorm, y_denorm, l_denorm])\n",
    "\n",
    "print(q_denorm)\n",
    "\n",
    "distances_for_y = np.sqrt(np.float64(np.sum(np.power(data_asm[:,1:3]-q_denorm[:2],2),axis=1)))\n",
    "data_within = data_asm[distances_for_y < q_denorm[2]]\n",
    "print(len(np.unique(data_within[:,0])))"
   ]
  },
  {
   "cell_type": "markdown",
   "metadata": {},
   "source": [
    "<h2>Begining evaluation on explanations</h2>"
   ]
  },
  {
   "cell_type": "code",
   "execution_count": 58,
   "metadata": {
    "collapsed": false
   },
   "outputs": [
    {
     "name": "stderr",
     "output_type": "stream",
     "text": [
      "/home/fotis/.local/lib/python2.7/site-packages/ipykernel/__main__.py:123: RuntimeWarning: divide by zero encountered in double_scalars\n",
      "/home/fotis/.local/lib/python2.7/site-packages/ipykernel/__main__.py:124: RuntimeWarning: divide by zero encountered in double_scalars\n",
      "/home/fotis/.local/lib/python2.7/site-packages/ipykernel/__main__.py:125: RuntimeWarning: divide by zero encountered in double_scalars\n",
      "/home/fotis/.local/lib/python2.7/site-packages/ipykernel/__main__.py:123: RuntimeWarning: invalid value encountered in double_scalars\n",
      "/home/fotis/.local/lib/python2.7/site-packages/ipykernel/__main__.py:123: RuntimeWarning: invalid value encountered in absolute\n",
      "/home/fotis/.local/lib/python2.7/site-packages/scipy/stats/_distn_infrastructure.py:2512: RuntimeWarning: invalid value encountered in true_divide\n",
      "  qk = 1.0*qk / np.sum(qk, axis=0)\n"
     ]
    },
    {
     "name": "stdout",
     "output_type": "stream",
     "text": [
      "Average R2 knn : 0.985688\n",
      "Average R2 ME : -58.757790\n",
      "Average R2 GOD : 0.985688\n",
      "Average R2' : 0.262908\n",
      "Average relative error for slope :nan\n",
      "Side experiment probability of closest being chosen : 0.340000\n"
     ]
    }
   ],
   "source": [
    "import time\n",
    "\n",
    "avg_r2_me = 0\n",
    "avg_r2_god = 0\n",
    "avg_r2_knn = 0\n",
    "avg_kl = 0\n",
    "k_nn = 25\n",
    "avg_r2_new = 0\n",
    "probs = []\n",
    "avg_relative_error = 0\n",
    "LAMBDA_P = 0.5\n",
    "record_times_closest = 0\n",
    "not_giving_expl = 0\n",
    "threshold = 0.001\n",
    "sub_thetas = 10\n",
    "\n",
    "#For all queries in testingdf\n",
    "for q in qs:\n",
    "    #Get closest clusters\n",
    "\n",
    "    dist = np.linalg.norm(cluster_centers - q[:2],axis=1) #Calculate distances between all neurons\n",
    "    closest_x = np.argmin(dist)\n",
    "    dist_t = (theta_centers_copy[closest_x]-q[2])**2\n",
    "    close_t_b = np.argmin(total_distance)\n",
    "    #Record\n",
    "    distwise = np.argmin(dist_t)\n",
    "    record_times_closest+= distwise==closest_t\n",
    "    l_denorm = q[2]*(lmax - lmin) + lmin\n",
    "    x_denorm = q[0]*(xmax - xmin) + xmin\n",
    "    y_denorm = q[1]*(ymax - ymin) + ymin\n",
    "    q_denorm = np.array([x_denorm, y_denorm, l_denorm])\n",
    "    #First denormalize theta \n",
    "    #Create subqueries with smaller thetas starting from 0.01(init point of training) up to theta\n",
    "    squeries = np.linspace(lmin, l_denorm, 10) #CHANGED TO 0.02\n",
    "    y_Test_a = []\n",
    "    #Execute thetas and get actual y for stationary query\n",
    "    start_time = time.time()\n",
    "    for theta in squeries:\n",
    "        distances_for_y = np.sqrt(np.float64(np.sum(np.power(data_asm[:,1:3]-q_denorm[:2],2),axis=1)))\n",
    "        data_within = data_asm[distances_for_y < theta]\n",
    "        y_real = len(np.unique(data_within[:,0]))\n",
    "        y_Test_a.append(y_real)\n",
    "    y_Test_a = np.array(y_Test_a)\n",
    "\n",
    "    t_of_execution_ac = time.time() - start_time\n",
    "#     y_Test_a = (y_Test_a - min_of_cardinality) / (max_of_cardinality - min_of_cardinality)\n",
    "\n",
    "    #Normalize squeries\n",
    "    squeries = (squeries - lmin) / (lmax - lmin)\n",
    "    #Create PLR for GOD\n",
    "    model_god = Earth(max_degree=1, penalty=0, enable_pruning=False, max_terms=sub_thetas)\n",
    "    model_god.fit(squeries, y_Test_a)\n",
    "    god_predi = model_god.predict(squeries)\n",
    "#     print(model_god.summary())\n",
    "    #Create subqueries to be executed\n",
    "    #Each query is executed from the same position but with a lesser theta\n",
    "    mqueries = np.matrix([q] * sub_thetas)\n",
    "    qqs = squeries.reshape((sub_thetas,1))\n",
    "    mqueries[:,2] = 0\n",
    "    mqueries[:,2] = qqs  \n",
    "    #ME MARS MODEL\n",
    "    #Change of strategy get closest model for each lesser theta.\n",
    "    y_predi_c = []\n",
    "    start_time = time.time()\n",
    "    closests = []\n",
    "    for theta in squeries:\n",
    "        dist_t = (theta_centers_copy[closest_x]-theta)**2\n",
    "        closest_t = np.argmin(dist_t)\n",
    "        closests.append(closest_t)\n",
    "        prediction = float(new_models[closest_x][closest_t][-1].predict([theta]))\n",
    "        if prediction>0:\n",
    "            y_predi_c.append(prediction)\n",
    "        else:\n",
    "            y_predi_c.append(0)\n",
    "    t_of_execution_me = time.time() - start_time\n",
    "    \n",
    "\n",
    "    y_predi_c = np.array(y_predi_c)\n",
    "#     y_predi_c = new_models[closest_x][closest_t][-1].predict(squeries)\n",
    "#     y_predi_c[np.where(y_predi_c < 0)] = y_predi_c[np.where(y_predi_c < 0)] * -1 * 0\n",
    "#     y_predi_c = y_predi_c*(max_of_cardinality - min_of_cardinality) + min_of_cardinality\n",
    "\n",
    "\n",
    "    \n",
    "\n",
    "    \n",
    "    #knn  \n",
    "    i = 0\n",
    "    start_time = time.time()\n",
    "    lr = LinearRegression()\n",
    "    lr.fit(squeries.reshape(-1,1), y_Test_a)  \n",
    "    knn_predi = lr.predict(squeries.reshape(-1,1))\n",
    "#     cc = clusters[closest_x].as_matrix()\n",
    "#     for m in mqueries :        \n",
    "#         dist_for_qs = np.sqrt(np.sum(np.power(cc[:,:3]-m,2),axis=1))\n",
    "#         sorted_indices = np.argsort(dist_for_qs.flatten())\n",
    "#         knn_predi.append(np.mean(np.squeeze(cc[sorted_indices])[:k_nn,3]))\n",
    "#         i+=1\n",
    "#     knn_predi = np.array(knn_predi)\n",
    "    t_of_execution_knn = time.time() - start_time\n",
    "    \n",
    "#     knn_predi = knn_predi*(max_of_cardinality - min_of_cardinality) + min_of_cardinality\n",
    "\n",
    "    #Evaluation Scores\n",
    "    relative_error_for_slope_me = 0\n",
    "    relative_error_for_slope_knn = 0\n",
    "    relative_error_for_slope_g = 0\n",
    "    \n",
    "    #Slope of god\n",
    "    for i in range(1,len(god_predi[1:])):\n",
    "        #Slope\n",
    "        paronomastis = squeries[i] - squeries[i-1]\n",
    "        arithmitis = y_Test_a[i] - y_Test_a[i-1]\n",
    "        #Predicted_slope\n",
    "        arithmitis_me = y_predi_c[i] - y_predi_c[i-1]\n",
    "        arithmitis_knn = knn_predi[i] - knn_predi[i-1]\n",
    "        arithmitis_g = god_predi[i] - god_predi[i-1]\n",
    "        v = arithmitis/paronomastis\n",
    "        vapprox_m = arithmitis_me/paronomastis\n",
    "        vapprox_knn = arithmitis_knn/paronomastis\n",
    "        vapprox_g = arithmitis_g/paronomastis\n",
    "        #Relative error\n",
    "        relative_error_for_slope_me+= np.abs(1-vapprox_m/v)\n",
    "        relative_error_for_slope_knn+= np.abs(1-vapprox_knn/v)\n",
    "        relative_error_for_slope_g+= np.abs(1-vapprox_g/v)\n",
    "        \n",
    "    relative_error_for_slope_me = relative_error_for_slope_me/float(i+1)\n",
    "    relative_error_for_slope_knn = relative_error_for_slope_knn/float(i+1)\n",
    "    relative_error_for_slope_g = relative_error_for_slope_g/float(i+1)\n",
    "\n",
    "    \n",
    "    \n",
    "    #KL-divergence metric\n",
    "    kl_divergence = entropy(y_Test_a, y_predi_c)\n",
    "    kl_div_g = entropy(y_Test_a, god_predi)\n",
    "    kl_div_knn = entropy(y_Test_a, knn_predi)\n",
    "    entropy_p = entropy(y_Test_a)\n",
    "    scaler = 1.0/entropy_p\n",
    "\n",
    "    #R2 scores\n",
    "    knn_r2_score = metrics.r2_score(y_Test_a, knn_predi )\n",
    "    me_r2_score = metrics.r2_score(y_Test_a, y_predi_c)\n",
    "    god_r2_score = metrics.r2_score(y_Test_a, god_predi)\n",
    "    \n",
    "    new_metric_m = 1 - ((np.sum(np.abs(y_Test_a - y_predi_c)))/(np.sum(np.abs(y_Test_a - np.mean(y_Test_a)))))\n",
    "    new_metric_g = 1 - ((np.sum(np.abs(y_Test_a - god_predi)))/(np.sum(np.abs(y_Test_a - np.mean(y_Test_a)))))\n",
    "    new_metric_knn = 1 - ((np.sum(np.abs(y_Test_a - knn_predi)))/(np.sum(np.abs(y_Test_a - np.mean(y_Test_a)))))\n",
    "\n",
    "#     print(entropy_p)\n",
    "#     print(kl_divergence)\n",
    "#     print(kl_divergence*scaler)\n",
    "#     print(knn_r2_score)\n",
    "#     print(me_r2_score)\n",
    "#     print(god_r2_score)\n",
    "#     print(relative_error_for_slope_me)\n",
    "#     print(y_Test_a)\n",
    "#     print(y_predi_c)\n",
    "#     print(np.var(y_Test_a))\n",
    "#     print(np.mean(y_Test_a))\n",
    "#     print(metrics.r2_score(y_Test_a, y_predi_c))\n",
    "#     fig = plt.figure(figsize=(14,5))\n",
    "#     ax = fig.add_subplot(111)\n",
    "#     ax.plot(squeries, y_Test_a, 'y', label='Actual Explanation')\n",
    "#     print(closests)\n",
    "# #     ax.plot(squeries, god_predi, 'k')\n",
    "#     print(squeries)\n",
    "#     ax.set_ylabel(\"y\")\n",
    "#     ax.set_xlabel(\"Theta\")\n",
    "#     ax.plot(squeries[:7], new_models[closest_x][1][-1].predict(squeries[:7]),'--k', label='Model 1')\n",
    "#     ax.plot(squeries[7:], new_models[closest_x][0][-1].predict(squeries[7:]),'--b', label='Model 0')\n",
    "#     ax.plot(squeries, new_models[closest_x][close_t_b][-1].predict(squeries),'-*g', label='Single Model')\n",
    "#     ax.plot(squeries, y_predi_c, 'g')\n",
    "#     ax.plot(squeries, new_models[closest_x][close_t_b][-1].predict(squeries), 'b')\n",
    "#     ax.plot(squeries[-1], y_Test_a[-1],'.k')\n",
    "#     ax.plot(squeries, y_Test_a, 'b',label='Actual Explanation - Took : {0} seconds'.format(t_of_execution_ac))\n",
    "#     print(\"tac: {0}\".format(t_of_execution_ac))\n",
    "#     print(\"tme: {0}\".format(t_of_execution_me))\n",
    "#     plt.title(\"How cardinality changes with respect to theta\")\n",
    "\n",
    "#     plt.plot(squeries, god_predi, 'g')\n",
    "#     ax = fig.add_subplot(122)\n",
    "#     ax.plot(squeries[-1], y_Test_a[-1],'.k')\n",
    "#     ax.set_ylabel(\"y\")\n",
    "#     ax.set_xlabel(\"Theta\")\n",
    "#     ax.plot(squeries, y_Test_a, 'b',label='Actual Explanation - Took : {0} seconds'.format(t_of_execution_ac))\n",
    "#     ax.plot(squeries, y_predi_c, 'y', label='Approximate Explanation - Took : {0} seconds'.format(t_of_execution_me))\n",
    "#     plt.plot(squeries, knn_predi, '--k', label='linear')\n",
    "#     plt.plot(squeries, y_predi_c, '-*g', label='me')\n",
    "#     plt.plot(squeries, god_predi, 'y', label='god')\n",
    "#     plt.plot(squeries, y_Test_a, 'b', label='actual')\n",
    "#     plt.legend()\n",
    "#     break;\n",
    "    #Averages\n",
    "    avg_kl += kl_divergence\n",
    "    avg_r2_knn += knn_r2_score\n",
    "    avg_r2_me += me_r2_score\n",
    "    avg_r2_god += god_r2_score\n",
    "    avg_relative_error+=relative_error_for_slope_me\n",
    "    avg_r2_new+=new_metric_m\n",
    "    probs.append([closest_x, closest_t, me_r2_score, god_r2_score, knn_r2_score, \n",
    "                  new_metric_m, new_metric_g, new_metric_knn,\n",
    "                  relative_error_for_slope_me, relative_error_for_slope_knn, relative_error_for_slope_g,\n",
    "                  kl_divergence, kl_div_g, kl_div_knn,entropy_p, scaler,\n",
    "                  t_of_execution_ac,t_of_execution_me, t_of_execution_knn, q[0], q[1], q[2], np.var(y_Test_a)])\n",
    "    \n",
    "\n",
    "print(\"Average R2 knn : %f\" % (avg_r2_knn/len(qs)))    \n",
    "print(\"Average R2 ME : %f\" % (avg_r2_me/len(qs)))\n",
    "print(\"Average R2 GOD : %f\" % (avg_r2_god/len(qs)))\n",
    "print(\"Average R2' : %f\" % (avg_r2_new/len(qs)))\n",
    "print(\"Average relative error for slope :%f\" % (avg_relative_error/len(qs)))\n",
    "print(\"Side experiment probability of closest being chosen : %f\" % (float(record_times_closest)/len(qs)))"
   ]
  },
  {
   "cell_type": "code",
   "execution_count": null,
   "metadata": {
    "collapsed": false
   },
   "outputs": [],
   "source": [
    "print(len(qs))\n",
    "print(not_giving_expl)"
   ]
  },
  {
   "cell_type": "code",
   "execution_count": 59,
   "metadata": {
    "collapsed": true
   },
   "outputs": [],
   "source": [
    "past_probs = copy.deepcopy(probs)"
   ]
  },
  {
   "cell_type": "code",
   "execution_count": 60,
   "metadata": {
    "collapsed": false
   },
   "outputs": [],
   "source": [
    "sdf = pd.DataFrame(data=np.array(probs), index=range(len(probs)), columns=['closest_x','closest_t','r2_me','r2_god','r2_knn',\n",
    "                                                                           'new_metric_m','new_metric_g', 'new_metric_knn',\n",
    "                                                                           'slope_error_me','slope_error_knn', 'slope_error_g',\n",
    "                                                                           'KL_m','kl_g','kl_knn',\n",
    "                                                                           'entropy_p','scaler', \n",
    "                                                                           'time_g','time_me','time_knn',\n",
    "                                                                           'x','y','l','var'])"
   ]
  },
  {
   "cell_type": "code",
   "execution_count": 61,
   "metadata": {
    "collapsed": false
   },
   "outputs": [
    {
     "data": {
      "text/plain": [
       "closest_x              36.000000\n",
       "closest_t               1.000000\n",
       "r2_me                   0.990319\n",
       "r2_god                  0.988419\n",
       "r2_knn                  0.988419\n",
       "new_metric_m            0.911437\n",
       "new_metric_g            0.892133\n",
       "new_metric_knn          0.892133\n",
       "slope_error_me          0.167962\n",
       "slope_error_knn         0.208677\n",
       "slope_error_g           0.208677\n",
       "KL_m                    0.001739\n",
       "kl_g                    0.004052\n",
       "kl_knn                  0.004052\n",
       "entropy_p               2.137920\n",
       "scaler                  0.467744\n",
       "time_g                  0.008448\n",
       "time_me                 0.000534\n",
       "time_knn                0.000261\n",
       "x                       0.677636\n",
       "y                       0.258130\n",
       "l                       0.281160\n",
       "var                234307.845000\n",
       "dtype: float64"
      ]
     },
     "execution_count": 61,
     "metadata": {},
     "output_type": "execute_result"
    }
   ],
   "source": [
    "sdf.median()"
   ]
  },
  {
   "cell_type": "code",
   "execution_count": null,
   "metadata": {
    "collapsed": false
   },
   "outputs": [],
   "source": [
    "# data['update_in_days'].plot(kind='hist')\n",
    "Q3 = sdf.r2_me.quantile(.75)\n",
    "Q1 = sdf.r2_me.quantile(.25)\n",
    "IQR = Q3 - Q1\n",
    "print(Q3)\n",
    "print(Q1)\n",
    "print(Q3)\n",
    "outlier_point_max = Q3+ 1.5 * IQR\n",
    "outlier_point_min = Q1-1.5*IQR\n",
    "fig = plt.figure()\n",
    "ax = fig.add_subplot(211)\n",
    "sns.boxplot(sdf.r2_me,ax=ax)\n",
    "# sdf = sdf[sdf.r2_me < outlier_point_max]\n",
    "sdf = sdf[sdf.r2_me > outlier_point_min]\n",
    "ax = fig.add_subplot(212)\n",
    "sns.boxplot(sdf.r2_me,ax=ax)"
   ]
  },
  {
   "cell_type": "code",
   "execution_count": null,
   "metadata": {
    "collapsed": true
   },
   "outputs": [],
   "source": [
    "sdf.to_csv(path_or_buf='/home/fotis/Dropbox/PhD/10.July - 2017/eval_results/gau_gau-AVG-Over-Calls.csv')"
   ]
  },
  {
   "cell_type": "code",
   "execution_count": null,
   "metadata": {
    "collapsed": false
   },
   "outputs": [],
   "source": [
    "sdf = pd.read_csv('/home/fotis/Dropbox/PhD/10.July - 2017/eval_results/gau_gau-AVG-Over-Calls.csv')"
   ]
  },
  {
   "cell_type": "code",
   "execution_count": null,
   "metadata": {
    "collapsed": false
   },
   "outputs": [],
   "source": [
    "sdf['cardinality'] = testingdf['avg']\n",
    "# sdf['mse'] = sdf.apply(lambda x: np.sqrt(new_models[int(x['closest_x'])][int(x['closest_t'])][-1].mse_), axis=1)"
   ]
  },
  {
   "cell_type": "code",
   "execution_count": null,
   "metadata": {
    "collapsed": true
   },
   "outputs": [],
   "source": [
    "sdf = sdf.replace([np.inf, -np.inf], np.nan).dropna()"
   ]
  },
  {
   "cell_type": "code",
   "execution_count": null,
   "metadata": {
    "collapsed": false
   },
   "outputs": [],
   "source": [
    "sdf.sort_values('r2_me')"
   ]
  },
  {
   "cell_type": "code",
   "execution_count": null,
   "metadata": {
    "collapsed": false,
    "scrolled": true
   },
   "outputs": [],
   "source": [
    "sdf.iloc[sdf[np.isinf(sdf)].dropna(how='all').index,:]"
   ]
  },
  {
   "cell_type": "code",
   "execution_count": null,
   "metadata": {
    "collapsed": false
   },
   "outputs": [],
   "source": [
    "ddf = sdf[['slope_error_me','slope_error_knn','slope_error_g']].stack().to_frame('slope_error')\n",
    "ddf = ddf.reset_index(level=1)\n",
    "# ddf['closest'] = sdf.ix[ddf.index]['closest']\n",
    "# ddf['l'] = sdf.ix[ddf.index]['l']\n",
    "# ax = sns.boxplot(x=\"level_1\", y=\"r2\", data=ddf)\n",
    "# ddf= ddf[ddf['slope_error']<1]\n",
    "# sdf = sdf[sdf['slope_error_me']<1]\n",
    "font_size = 22\n",
    "ax = sns.boxplot(x=\"level_1\", y=\"slope_error\", data=ddf, showmeans=True)\n",
    "trans = transforms.blended_transform_factory(\n",
    "    ax.get_yticklabels()[0].get_transform(), ax.transData)\n",
    "mr2 = sdf['slope_error_me'].mean()\n",
    "ax.axhline(y=mr2, color=\"b\", alpha=0.6, linestyle='--' ,label='Mean for our Model')\n",
    "ax.text(0,mr2, \"{:.2f}\".format(mr2), color=\"b\", transform=trans, \n",
    "        ha=\"right\", va=\"center\", size=font_size)\n",
    "\n",
    "gr2 = sdf['slope_error_g'].mean()\n",
    "ax.axhline(y=gr2, color=\"r\", alpha=0.6, linestyle='--',label='Mean for God')\n",
    "ax.text(-0.1,gr2, \"{:.2f}\".format(gr2), color=\"r\", transform=trans, \n",
    "        ha=\"right\", va=\"center\", size=font_size)\n",
    "kr2 = sdf['slope_error_knn'].mean()\n",
    "ax.axhline(y=kr2, color=\"g\", alpha=0.6, linestyle='--',label='Mean for k-NN')\n",
    "ax.text(-0.2,kr2, \"{:.2f}\".format(kr2), color=\"g\", transform=trans, \n",
    "        ha=\"right\", va=\"center\", size=font_size)\n",
    "ax.set_xlabel(\"Models\",size=font_size)\n",
    "ax.set_ylabel(\"Slope Error\",size=font_size)\n",
    "\n",
    "\n",
    "labels = [item.get_text() for item in ax.get_xticklabels()]\n",
    "labels[0] = 'Our Model'\n",
    "labels[1] = 'k-NN'\n",
    "labels[2] = 'God'\n",
    "\n",
    "ax.set_xticklabels(labels)\n",
    "ax.tick_params(labelsize=font_size)\n",
    "ax.legend(prop={'size':16})"
   ]
  },
  {
   "cell_type": "code",
   "execution_count": null,
   "metadata": {
    "collapsed": false
   },
   "outputs": [],
   "source": [
    "ddf = sdf[['KL_m','kl_knn','kl_g']].stack().to_frame('KL-Divergence')\n",
    "ddf = ddf.reset_index(level=1)\n",
    "# ddf['closest'] = sdf.ix[ddf.index]['closest']\n",
    "# ddf['l'] = sdf.ix[ddf.index]['l']\n",
    "# ax = sns.boxplot(x=\"level_1\", y=\"r2\", data=ddf)\n",
    "# ddf= ddf[ddf['KL-Divergence']<0.10]\n",
    "ax = sns.boxplot(x=\"level_1\", y=\"KL-Divergence\", data=ddf, showmeans=True)\n",
    "trans = transforms.blended_transform_factory(\n",
    "    ax.get_yticklabels()[0].get_transform(), ax.transData)\n",
    "mr2 = sdf['KL_m'].mean()\n",
    "ax.axhline(y=mr2, color=\"b\", alpha=0.6, linestyle='--' ,label='Mean for our Model')\n",
    "ax.text(0,mr2, \"{:.4f}\".format(mr2), color=\"b\", transform=trans, \n",
    "        ha=\"right\", va=\"center\", size=font_size)\n",
    "gr2 = sdf['kl_g'].mean()\n",
    "ax.axhline(y=gr2, color=\"r\", alpha=0.6, linestyle='--',label='Mean for God')\n",
    "ax.text(-0.1,gr2, \"{:.4f}\".format(gr2), color=\"r\", transform=trans, \n",
    "        ha=\"right\", va=\"center\", size=font_size)\n",
    "kr2 = sdf['kl_knn'].mean()\n",
    "ax.axhline(y=kr2, color=\"g\", alpha=0.6, linestyle='--',label='Mean for k-NN')\n",
    "ax.text(-0.2,kr2, \"{:.4f}\".format(kr2), color=\"g\", transform=trans, \n",
    "        ha=\"right\", va=\"center\", size=font_size)\n",
    "ax.set_xlabel(\"Models\")\n",
    "ax.set_ylabel(\"KL-Divergence\")\n",
    "\n",
    "\n",
    "labels = [item.get_text() for item in ax.get_xticklabels()]\n",
    "labels[0] = 'Our Model'\n",
    "labels[1] = 'k-NN'\n",
    "labels[2] = 'God'\n",
    "\n",
    "ax.set_xticklabels(labels)"
   ]
  },
  {
   "cell_type": "code",
   "execution_count": null,
   "metadata": {
    "collapsed": false
   },
   "outputs": [],
   "source": [
    "ddf = sdf[['time_me','time_knn','time_g']].stack().to_frame('time')\n",
    "ddf = ddf.reset_index(level=1)\n",
    "# ddf['closest'] = sdf.ix[ddf.index]['closest']\n",
    "# ddf['l'] = sdf.ix[ddf.index]['l']\n",
    "# ax = sns.boxplot(x=\"level_1\", y=\"r2\", data=ddf)\n",
    "ax = sns.boxplot(x=\"level_1\", y=\"time\", data=ddf, showmeans=True)\n",
    "trans = transforms.blended_transform_factory(\n",
    "    ax.get_yticklabels()[0].get_transform(), ax.transData)\n",
    "mr2 = sdf['time_me'].mean()\n",
    "ax.axhline(y=mr2, color=\"red\", alpha=0.6, linestyle='--')\n",
    "ax.text(0,mr2, \"{:.4f}\".format(mr2), color=\"red\", transform=trans, \n",
    "        ha=\"right\", va=\"center\")\n",
    "gr2 = sdf['time_g'].mean()\n",
    "ax.axhline(y=gr2, color=\"red\", alpha=0.6, linestyle='--')\n",
    "ax.text(0,gr2, \"{:.4f}\".format(gr2), color=\"red\", transform=trans, \n",
    "        ha=\"right\", va=\"center\")\n",
    "kr2 = sdf['time_knn'].mean()\n",
    "ax.axhline(y=kr2, color=\"red\", alpha=0.6, linestyle='--')\n",
    "ax.text(0,kr2, \"{:.4f}\".format(kr2), color=\"red\", transform=trans, \n",
    "        ha=\"right\", va=\"center\")\n",
    "ax.set_xlabel(\"Models\")\n",
    "ax.set_ylabel(\"Time (s)\")\n",
    "\n",
    "\n",
    "labels = [item.get_text() for item in ax.get_xticklabels()]\n",
    "labels[0] = 'Our Model'\n",
    "labels[1] = 'k-NN'\n",
    "labels[2] = 'God'\n",
    "\n",
    "ax.set_xticklabels(labels)"
   ]
  },
  {
   "cell_type": "code",
   "execution_count": null,
   "metadata": {
    "collapsed": false
   },
   "outputs": [],
   "source": [
    "sdf[sdf[['r2_me','r2_god', 'r2_knn']] <-1] = -1\n",
    "# sdf = pd.read_csv('/home/fotis/dev_projects/spark_test/target/evaluation_10000_from_x/results_gau_gau_-x.csv', sep=\",\", header=0)\n",
    "# sns.regplot(x='l', y='r2_me', data=sdf, fit_reg=False, x_bins=20, logx=True, label='me')\n",
    "# sns.regplot(x='l', y='r2_knn', data=sdf, fit_reg=False, x_bins=20, logx=True, label='knn')\n",
    "# sns.regplot(x='l', y='r2_god', data=sdf, fit_reg=False, x_bins=20, logx=True, label='god')\n",
    "# sns.regplot(x='l', y='r2_lin', data=sdf, fit_reg=False, x_bins=20, logx=True, label='lin')\n",
    "# plt.title('Gau X with variance :0.01\\nGau theta : with mean 0.04 and variance : 0.0001')\n",
    "# plt.xlabel('theta')\n",
    "# plt.ylabel('R2')\n",
    "# plt.legend()\n",
    "# sdf.to_csv(\"/home/fotis/dev_projects/spark_test/target/evaluation_10000_from_x_advanced/results_gau_gau_-x.csv\")\n",
    "ddf = sdf[['r2_me','r2_god','r2_knn']].stack().to_frame('r2')\n",
    "ddf = ddf.reset_index(level=1)\n",
    "# ddf['closest'] = sdf.ix[ddf.index]['closest']\n",
    "# ddf['l'] = sdf.ix[ddf.index]['l']\n",
    "# ax = sns.boxplot(x=\"level_1\", y=\"r2\", data=ddf)\n",
    "# plt.ylim(0.9,1)\n",
    "ax = sns.boxplot(x=\"level_1\", y=\"r2\", data=ddf, showmeans=False, )\n",
    "trans = transforms.blended_transform_factory(\n",
    "    ax.get_yticklabels()[0].get_transform(), ax.transData)\n",
    "\n",
    "mr2 = sdf['r2_me'].mean()\n",
    "# ax.axhline(y=mr2, color=\"red\", alpha=0.6, linestyle='--')\n",
    "# ax.text(0,mr2, \"{:.2f}\".format(mr2), color=\"red\", transform=trans, \n",
    "#         ha=\"right\", va=\"center\")\n",
    "\n",
    "gr2 = sdf['r2_god'].mean()\n",
    "# ax.axhline(y=gr2, color=\"red\", alpha=0.6, linestyle='--')\n",
    "# ax.text(0,gr2, \"{:.2f}\".format(gr2), color=\"red\", transform=trans, \n",
    "#         ha=\"right\", va=\"center\")\n",
    "kr2 = sdf['r2_knn'].mean()\n",
    "# ax.axhline(y=kr2, color=\"red\", alpha=0.6, linestyle='--')\n",
    "# ax.text(0,kr2, \"{:.2f}\".format(kr2), color=\"red\", transform=trans, \n",
    "#         ha=\"right\", va=\"center\")\n",
    "font_size=22\n",
    "ax.set_xlabel(\"Models\",size=font_size)\n",
    "ax.set_ylabel(r\"$R^2$\",size=font_size)\n",
    "\n",
    "labels = [item.get_text() for item in ax.get_xticklabels()]\n",
    "labels[0] = 'Data-Agnostic\\nMARS'\n",
    "labels[1] = 'Data-Gnostic\\nMARS'\n",
    "labels[2] = 'Data-Gnostic\\nLinear Regression'\n",
    "ax.set_title(\"AVERAGE\",size=font_size)\n",
    "\n",
    "ax.set_xticklabels(labels)\n",
    "ax.tick_params(labelsize=font_size)\n",
    "ax.set_xlabel(\"Models\", fontsize=font_size)\n",
    "ax.set_ylabel(r\"$R^2$\", fontsize=font_size)\n",
    "ax.legend(prop={'size':16})"
   ]
  },
  {
   "cell_type": "code",
   "execution_count": null,
   "metadata": {
    "collapsed": false
   },
   "outputs": [],
   "source": [
    "sdf[sdf[['new_metric_m','new_metric_g', 'new_metric_knn']] <-1] = -1\n",
    "# sdf = pd.read_csv('/home/fotis/dev_projects/spark_test/target/evaluation_10000_from_x/results_gau_gau_-x.csv', sep=\",\", header=0)\n",
    "# sns.regplot(x='l', y='r2_me', data=sdf, fit_reg=False, x_bins=20, logx=True, label='me')\n",
    "# sns.regplot(x='l', y='r2_knn', data=sdf, fit_reg=False, x_bins=20, logx=True, label='knn')\n",
    "# sns.regplot(x='l', y='r2_god', data=sdf, fit_reg=False, x_bins=20, logx=True, label='god')\n",
    "# sns.regplot(x='l', y='r2_lin', data=sdf, fit_reg=False, x_bins=20, logx=True, label='lin')\n",
    "# plt.title('Gau X with variance :0.01\\nGau theta : with mean 0.04 and variance : 0.0001')\n",
    "# plt.xlabel('theta')\n",
    "# plt.ylabel('R2')\n",
    "# plt.legend()\n",
    "# sdf.to_csv(\"/home/fotis/dev_projects/spark_test/target/evaluation_10000_from_x_advanced/results_gau_gau_-x.csv\")\n",
    "ddf = sdf[['new_metric_m','new_metric_g','new_metric_knn']].stack().to_frame('r2_new')\n",
    "ddf = ddf.reset_index(level=1)\n",
    "# ddf['closest'] = sdf.ix[ddf.index]['closest']\n",
    "# ddf['l'] = sdf.ix[ddf.index]['l']\n",
    "# ax = sns.boxplot(x=\"level_1\", y=\"r2\", data=ddf)\n",
    "ax = sns.boxplot(x=\"level_1\", y=\"r2_new\", data=ddf, showmeans=True)\n",
    "trans = transforms.blended_transform_factory(\n",
    "    ax.get_yticklabels()[0].get_transform(), ax.transData)\n",
    "\n",
    "mr2 = sdf['new_metric_m'].mean()\n",
    "ax.axhline(y=mr2, color=\"red\", alpha=0.6, linestyle='--')\n",
    "ax.text(0,mr2, \"{:.2f}\".format(mr2), color=\"red\", transform=trans, \n",
    "        ha=\"right\", va=\"center\")\n",
    "\n",
    "gr2 = sdf['new_metric_g'].mean()\n",
    "ax.axhline(y=gr2, color=\"red\", alpha=0.6, linestyle='--')\n",
    "ax.text(0,gr2, \"{:.2f}\".format(gr2), color=\"red\", transform=trans, \n",
    "        ha=\"right\", va=\"center\")\n",
    "kr2 = sdf['new_metric_knn'].mean()\n",
    "ax.axhline(y=kr2, color=\"red\", alpha=0.6, linestyle='--')\n",
    "ax.text(0,kr2, \"{:.2f}\".format(kr2), color=\"red\", transform=trans, \n",
    "        ha=\"right\", va=\"center\")\n",
    "ax.set_xlabel(\"Models\")\n",
    "ax.set_ylabel(\"Alternative to Coefficient Of Determination\")\n",
    "\n",
    "\n",
    "labels = [item.get_text() for item in ax.get_xticklabels()]\n",
    "labels[0] = 'Our Model'\n",
    "labels[1] = 'God'\n",
    "labels[2] = 'k-NN'\n",
    "\n",
    "ax.set_xticklabels(labels)"
   ]
  },
  {
   "cell_type": "code",
   "execution_count": null,
   "metadata": {
    "collapsed": true
   },
   "outputs": [],
   "source": [
    "from matplotlib import cm\n",
    "cmap = cm.get_cmap('jet')\n",
    "# sdf[sdf['r2_me']<0]['closest_t'].plot(kind='kde')\n",
    "sdf['mse'] = sdf.apply(lambda x: np.sqrt(new_models[int(x['closest_x'])][int(x['closest_t'])][-1].mse_), axis=1)\n",
    "# sdf[sdf['r2_me']<0][sdf['closest_t']==0].plot(kind='scatter',x='closest_x',y='closest_t', c='mse',  colormap=cmap)\n",
    "print(sdf[sdf['r2_me']<0]['l'].mean())\n",
    "sdf['l'].plot(kind='kde')\n",
    "sdf[sdf['r2_me']<0]['l'].plot(kind='kde')"
   ]
  },
  {
   "cell_type": "code",
   "execution_count": null,
   "metadata": {
    "collapsed": true
   },
   "outputs": [],
   "source": [
    "# sns.boxplot(testingdf[testingdf['l']]['cardinality'])\n",
    "# sdf[sdf['r2_me']>-5000][sdf['r2_me']<0].plot(kind='scatter', x='l', y='r2_me')\n",
    "# sns.boxplot(testingdf[testingdf['l']<0.08]['cardinality'])\n",
    "sdf['thresh'] = sdf.apply(lambda x: np.abs(x['cardinality']-testingdf['cardinality'].mean()), axis=1)\n",
    "sdf.plot(kind='scatter', x='cardinality', y='r2_me')\n"
   ]
  },
  {
   "cell_type": "code",
   "execution_count": null,
   "metadata": {
    "collapsed": false
   },
   "outputs": [],
   "source": [
    "ax = sdf['r2_me'].plot(kind='kde')\n",
    "medeianmr2 = sdf['r2_me'].median()\n",
    "trans = transforms.blended_transform_factory(\n",
    "    ax.get_xticklabels()[0].get_transform(), ax.transData)\n",
    "ax.axvline(x=mr2, color=\"red\", alpha=0.6, linestyle='--')\n",
    "ax.text(mr2,0, \"{:.2f}\".format(mr2), color=\"red\", transform=trans, \n",
    "        ha=\"right\", va=\"center\")\n",
    "ax.axvline(x=medeianmr2, color=\"green\", alpha=0.6, linestyle='--')\n",
    "ax.text(medeianmr2,0, \"{:.2f}\".format(medeianmr2), color=\"green\", transform=trans, \n",
    "        ha=\"center\", va=\"bottom\")"
   ]
  },
  {
   "cell_type": "code",
   "execution_count": null,
   "metadata": {
    "collapsed": true
   },
   "outputs": [],
   "source": [
    "sdf['slope_error']=sdf['slope_error'].replace([np.inf, -np.inf], np.nan)\n",
    "ax = sdf['slope_error'].dropna().plot(kind='kde')\n",
    "slopeerrorme = sdf['slope_error'].dropna().median()\n",
    "slopeerrormean = sdf['slope_error'].dropna().mean()\n",
    "trans = transforms.blended_transform_factory(\n",
    "    ax.get_xticklabels()[0].get_transform(), ax.transData)\n",
    "ax.axvline(x=slopeerrormean, color=\"red\", alpha=0.6, linestyle='--')\n",
    "ax.text(slopeerrormean,0, \"{:.2f}\".format(slopeerrormean), color=\"red\", transform=trans, \n",
    "        ha=\"right\", va=\"center\")\n",
    "ax.axvline(x=slopeerrorme, color=\"green\", alpha=0.6, linestyle='--')\n",
    "ax.text(slopeerrorme,0, \"{:.2f}\".format(slopeerrorme), color=\"green\", transform=trans, \n",
    "        ha=\"left\", va=\"bottom\")\n",
    "ax.set_title(\"Slope Error\")"
   ]
  },
  {
   "cell_type": "code",
   "execution_count": null,
   "metadata": {
    "collapsed": true
   },
   "outputs": [],
   "source": [
    "ratio=sdf['KL']*sdf['scaler']\n",
    "ratio=ratio.replace([np.inf, -np.inf], np.nan)\n",
    "ax = ratio.dropna().plot(kind='kde')\n",
    "ratiomedian = ratio.dropna().median()\n",
    "ratiomean = ratio.dropna().mean()\n",
    "trans = transforms.blended_transform_factory(\n",
    "    ax.get_xticklabels()[0].get_transform(), ax.transData)\n",
    "ax.axvline(x=ratiomean, color=\"red\", alpha=0.6, linestyle='--')\n",
    "ax.text(ratiomean,0, \"{:.4f}\".format(ratiomean), color=\"red\", transform=trans, \n",
    "        ha=\"right\", va=\"center\")\n",
    "ax.axvline(x=ratiomedian, color=\"green\", alpha=0.6, linestyle='--')\n",
    "ax.text(ratiomedian,0, \"{:.4f}\".format(ratiomedian), color=\"green\", transform=trans, \n",
    "        ha=\"left\", va=\"bottom\")\n",
    "ax.set_title(\"KL\")"
   ]
  },
  {
   "cell_type": "code",
   "execution_count": null,
   "metadata": {
    "collapsed": false
   },
   "outputs": [],
   "source": [
    "sdf['KL']=sdf['KL'].replace([np.inf, -np.inf], np.nan)\n",
    "ax = sdf['KL'].dropna().plot(kind='kde')\n",
    "ratiomedian = sdf['KL'].dropna().median()\n",
    "ratiomean = sdf['KL'].dropna().mean()\n",
    "trans = transforms.blended_transform_factory(\n",
    "    ax.get_xticklabels()[0].get_transform(), ax.transData)\n",
    "ax.axvline(x=ratiomean, color=\"red\", alpha=0.6, linestyle='--')\n",
    "ax.text(ratiomean,0, \"{:.4f}\".format(ratiomean), color=\"red\", transform=trans, \n",
    "        ha=\"right\", va=\"center\")\n",
    "ax.axvline(x=ratiomedian, color=\"green\", alpha=0.6, linestyle='--')\n",
    "ax.text(ratiomedian,0, \"{:.4f}\".format(ratiomedian), color=\"green\", transform=trans, \n",
    "        ha=\"left\", va=\"bottom\")\n",
    "ax.set_title('Ratio')"
   ]
  }
 ],
 "metadata": {
  "kernelspec": {
   "display_name": "Python 2",
   "language": "python",
   "name": "python2"
  },
  "language_info": {
   "codemirror_mode": {
    "name": "ipython",
    "version": 2
   },
   "file_extension": ".py",
   "mimetype": "text/x-python",
   "name": "python",
   "nbconvert_exporter": "python",
   "pygments_lexer": "ipython2",
   "version": "2.7.12"
  }
 },
 "nbformat": 4,
 "nbformat_minor": 2
}
