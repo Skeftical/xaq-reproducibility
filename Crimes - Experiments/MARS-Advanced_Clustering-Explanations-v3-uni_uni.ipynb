{
 "cells": [
  {
   "cell_type": "code",
   "execution_count": 1,
   "metadata": {
    "collapsed": true
   },
   "outputs": [],
   "source": [
    "%matplotlib inline\n",
    "import matplotlib.pyplot as plt\n",
    "from mpl_toolkits.mplot3d import Axes3D\n",
    "import pandas as pd\n",
    "import numpy as np\n",
    "import seaborn as sns\n",
    "sns.set(style=\"white\")\n",
    "from pyearth import Earth\n",
    "from sklearn.preprocessing import StandardScaler,RobustScaler\n",
    "from sklearn.cluster import MiniBatchKMeans\n",
    "from sklearn.model_selection import train_test_split\n",
    "from sklearn.linear_model import LinearRegression\n",
    "from sklearn import metrics as metrics\n",
    "from scipy.stats import entropy\n",
    "import math\n",
    "from pyearth import export\n",
    "from sympy import *\n",
    "import copy\n",
    "import matplotlib.transforms as transforms\n",
    "import mpl_toolkits.mplot3d.art3d as art3d\n",
    "from matplotlib.patches import Circle, PathPatch, Wedge\n",
    "from matplotlib.collections import PatchCollection\n",
    "from IPython.core.pylabtools import figsize"
   ]
  },
  {
   "cell_type": "code",
   "execution_count": 2,
   "metadata": {
    "collapsed": true
   },
   "outputs": [],
   "source": [
    "data = pd.read_csv('/home/fotis/dev_projects/spark_test/target/crimeDataCoordinates_normalized_full/part-r-00000-11fd4f3b-2cdb-4ce0-9553-aed4be9bc244.csv', sep=\",\", header=0)\n",
    "# data2 = pd.read_csv('/home/fotis/dev_projects/spark_test/target/crime_results_/gau-x__gau-l_varx-0.01_varl-0.0001_mul-0.04/part-00000/part-00000', sep=\",\", header = None)\n",
    "data2 = pd.read_csv('/home/fotis/dev_projects/spark_test/target/crime_results_/uni-x__uni-l_varx-0.01_multimodal-l(0.02_0.08_0.1)/part-00000/part-00000', sep=\",\", header = None)"
   ]
  },
  {
   "cell_type": "code",
   "execution_count": 3,
   "metadata": {
    "collapsed": false
   },
   "outputs": [
    {
     "data": {
      "text/plain": [
       "<matplotlib.axes._subplots.AxesSubplot at 0x7f21765d0c90>"
      ]
     },
     "execution_count": 3,
     "metadata": {},
     "output_type": "execute_result"
    },
    {
     "data": {
      "image/png": "[encoded data removed]",
      "text/plain": [
       "<matplotlib.figure.Figure at 0x7f21b90d4a90>"
      ]
     },
     "metadata": {},
     "output_type": "display_data"
    }
   ],
   "source": [
    "data.columns = ['x','y']\n",
    "data2.columns = ['x','y','l','cardinality']\n",
    "data2 = data2[data2['cardinality']>0]\n",
    "data2 = data2.set_index(np.arange(data2.count()[0]))\n",
    "fig = plt.figure()\n",
    "ax = fig.add_subplot(111)\n",
    "data.plot(kind='scatter', x='x',y='y',ax=ax)\n",
    "data2.plot(kind='scatter', x='x',y='y', c='r', ax=ax)"
   ]
  },
  {
   "cell_type": "code",
   "execution_count": 4,
   "metadata": {
    "collapsed": false
   },
   "outputs": [
    {
     "name": "stdout",
     "output_type": "stream",
     "text": [
      "Minimum cardinality : 6\n",
      "Maximum Cardinality : 1695182\n",
      "Xmin :-0.5\n",
      "Xmax: 0.5\n",
      "Ymin : -0.5\n",
      "Ymax : 0.5\n",
      "Lmin : 0.0200005065703\n",
      "Lmax : 0.159999038787\n"
     ]
    }
   ],
   "source": [
    "min_of_cardinality = data2['cardinality'].min()\n",
    "max_of_cardinality = data2['cardinality'].max()\n",
    "xmin = data['x'].min()\n",
    "xmax = data['x'].max()\n",
    "ymin = data['y'].min()\n",
    "ymax = data['y'].max()\n",
    "lmin = data2['l'].min()\n",
    "lmax = data2['l'].max()\n",
    "print(\"Minimum cardinality : {0}\\nMaximum Cardinality : {1}\".format(min_of_cardinality, max_of_cardinality))\n",
    "print(\"Xmin :{0}\\nXmax: {1}\".format(xmin, xmax))\n",
    "print(\"Ymin : {0}\\nYmax : {1}\".format(ymin, ymax))\n",
    "print(\"Lmin : {0}\\nLmax : {1}\".format(lmin, lmax))"
   ]
  },
  {
   "cell_type": "code",
   "execution_count": 5,
   "metadata": {
    "collapsed": true
   },
   "outputs": [],
   "source": [
    "max_tot_data = data.count()[0]\n",
    "min_tot_data = 0"
   ]
  },
  {
   "cell_type": "markdown",
   "metadata": {},
   "source": [
    "<h2>Normalizing values</h2></br>\n",
    "$$X_{norma} = \\frac{X - min(X)}{max(X) - min(X)}$$"
   ]
  },
  {
   "cell_type": "code",
   "execution_count": 6,
   "metadata": {
    "collapsed": true
   },
   "outputs": [],
   "source": [
    "#Normalize all values to (0,1)\n",
    "data['x'] = (data['x'] - xmin) / (xmax - xmin)\n",
    "data['y'] = (data['y'] - ymin) / (ymax - ymin)\n",
    "#Normalize all values for queries to (0,1)\n",
    "data2['x'] = (data2['x'] - xmin) / (xmax - xmin)\n",
    "data2['y'] = (data2['y'] - ymin) / (ymax - ymin)\n",
    "data2['l'] = (data2['l'] - lmin) / (lmax - lmin)\n",
    "# data2['cardinality'] = (data2['cardinality'] - min_of_cardinality) / (max_of_cardinality - min_of_cardinality)"
   ]
  },
  {
   "cell_type": "code",
   "execution_count": 7,
   "metadata": {
    "collapsed": false
   },
   "outputs": [
    {
     "name": "stderr",
     "output_type": "stream",
     "text": [
      "/home/fotis/.local/lib/python2.7/site-packages/seaborn/categorical.py:2171: UserWarning: The boxplot API has been changed. Attempting to adjust your arguments for the new API (which might not work). Please update your code. See the version 0.6 release notes for more info.\n",
      "  warnings.warn(msg, UserWarning)\n"
     ]
    },
    {
     "data": {
      "text/plain": [
       "<matplotlib.axes._subplots.AxesSubplot at 0x7f216e421e90>"
      ]
     },
     "execution_count": 7,
     "metadata": {},
     "output_type": "execute_result"
    },
    {
     "data": {
      "image/png": "[encoded data removed]",
      "text/plain": [
       "<matplotlib.figure.Figure at 0x7f218abe8290>"
      ]
     },
     "metadata": {},
     "output_type": "display_data"
    }
   ],
   "source": [
    "sns.boxplot(data2)"
   ]
  },
  {
   "cell_type": "markdown",
   "metadata": {},
   "source": [
    "<h2>Pre-Learning Phase 1st Level Clustering $$\\mathbf{x}$$</h2></br>\n",
    "<b>Cluster and train model for sample 0.2 of queries</b>"
   ]
  },
  {
   "cell_type": "code",
   "execution_count": 8,
   "metadata": {
    "collapsed": true
   },
   "outputs": [],
   "source": [
    "prelearningdf = data2.sample(frac=.2)\n",
    "trainingdf = data2.drop(prelearningdf.index)"
   ]
  },
  {
   "cell_type": "code",
   "execution_count": 9,
   "metadata": {
    "collapsed": false
   },
   "outputs": [
    {
     "name": "stdout",
     "output_type": "stream",
     "text": [
      "Resulting prelearning set : 10000\n",
      "Resulting training set : 40000\n"
     ]
    }
   ],
   "source": [
    "print(\"Resulting prelearning set : {0}\\nResulting training set : {1}\".format(prelearningdf.count()[0], trainingdf.count()[0]))"
   ]
  },
  {
   "cell_type": "markdown",
   "metadata": {},
   "source": [
    "<b>Resetting Indexes</b>"
   ]
  },
  {
   "cell_type": "code",
   "execution_count": 10,
   "metadata": {
    "collapsed": true
   },
   "outputs": [],
   "source": [
    "prelearningdf = prelearningdf.set_index(np.arange(prelearningdf.count()[0]))\n",
    "trainingdf = trainingdf.set_index(np.arange(trainingdf.count()[0]))"
   ]
  },
  {
   "cell_type": "code",
   "execution_count": 11,
   "metadata": {
    "collapsed": true
   },
   "outputs": [],
   "source": [
    "X = prelearningdf[['x','y']].as_matrix()"
   ]
  },
  {
   "cell_type": "code",
   "execution_count": 12,
   "metadata": {
    "collapsed": false
   },
   "outputs": [
    {
     "name": "stdout",
     "output_type": "stream",
     "text": [
      "15\n"
     ]
    },
    {
     "data": {
      "image/png": "[encoded data removed]",
      "text/plain": [
       "<matplotlib.figure.Figure at 0x7f217423f090>"
      ]
     },
     "metadata": {},
     "output_type": "display_data"
    },
    {
     "data": {
      "image/png": "[encoded data removed]",
      "text/plain": [
       "<matplotlib.figure.Figure at 0x7f21741b2790>"
      ]
     },
     "metadata": {},
     "output_type": "display_data"
    }
   ],
   "source": [
    "# #Tuning k-parameter for kmeans\n",
    "avg_vars = []\n",
    "clusters_ = range(20,150,5)\n",
    "vigil = 0.008\n",
    "c=20\n",
    "\n",
    "init = True\n",
    "diff = 1\n",
    "while diff>= vigil:\n",
    "    kmeans = MiniBatchKMeans(n_clusters=c, max_no_improvement=None)\n",
    "    kmeans.fit(X)\n",
    "    avg_vars.append(kmeans.inertia_)\n",
    "    if not init:\n",
    "        diff = (avg_vars[-2]-avg_vars[-1])\n",
    "    else:\n",
    "        init=False\n",
    "    c+=5\n",
    "c-= 5    \n",
    "avg_vars = np.array(avg_vars)\n",
    "selected = np.where(avg_vars == np.min(avg_vars))[0][0]\n",
    "print(selected)\n",
    "plt.plot(range(20,c+5,5), avg_vars)\n",
    "plt.plot(c, avg_vars[selected],'.g')\n",
    "# #End of tuning\n",
    "\n",
    "CLUSTERS = clusters_[selected]\n",
    "kmeans = MiniBatchKMeans(n_clusters=CLUSTERS)\n",
    "kmeans.fit(X)\n",
    "if hasattr(kmeans, 'labels_'):\n",
    "    y_pred = kmeans.labels_.astype(np.int)\n",
    "else:\n",
    "    y_pred = kmeans.predict(X)\n",
    "\n",
    "colors = np.array([x for x in 'bgrcmykbgrcmykbgrcmykbgrcmyk'])\n",
    "colors = np.hstack([colors] * CLUSTERS)\n",
    "fig = plt.figure()\n",
    "ax = fig.add_subplot(111)\n",
    "ax.scatter(prelearningdf['x'],prelearningdf['y'],color=colors[y_pred].tolist(), s=10)\n",
    "\n",
    "if hasattr(kmeans, 'cluster_centers_'):\n",
    "    centers = kmeans.cluster_centers_\n",
    "    center_colors = colors[:len(centers)]\n",
    "    plt.scatter(centers[:, 0], centers[:, 1], s=100, c=center_colors)\n",
    "\n",
    "plt.show()"
   ]
  },
  {
   "cell_type": "markdown",
   "metadata": {},
   "source": [
    "<b>Assigning Queries to clusters</b>"
   ]
  },
  {
   "cell_type": "code",
   "execution_count": 13,
   "metadata": {
    "collapsed": true
   },
   "outputs": [],
   "source": [
    "clusters = {}\n",
    "# fig, axs = plt.subplots(ncols=5, nrows=15,figsize=(30,25))\n",
    "for i in range(len(kmeans.cluster_centers_)):\n",
    "    item = np.where(kmeans.labels_== i)\n",
    "    clusters[i] = prelearningdf.ix[item]\n",
    "#     sns.regplot(x='l', y='cardinality', data=clusters[i],fit_reg=False, ax=axs[(i/5)][(i%5)])"
   ]
  },
  {
   "cell_type": "markdown",
   "metadata": {},
   "source": [
    "<b>Checking if cardinality variance is less within cluster than before</b>"
   ]
  },
  {
   "cell_type": "markdown",
   "metadata": {},
   "source": [
    "<h2>Pre-Learning 2nd Level cluster $$\\theta$$</h2>\n",
    "<b>Cluster theta</b>"
   ]
  },
  {
   "cell_type": "markdown",
   "metadata": {},
   "source": [
    "<b>Resetting indexes for each cluster because we need to re-cluster</b>"
   ]
  },
  {
   "cell_type": "code",
   "execution_count": 14,
   "metadata": {
    "collapsed": true
   },
   "outputs": [],
   "source": [
    "for i in clusters:\n",
    "    clusters[i] = clusters[i].set_index(np.arange(clusters[i].count()[0]))"
   ]
  },
  {
   "cell_type": "markdown",
   "metadata": {},
   "source": [
    "<b>Datastructure to hold each subcluster associated with a cluster</b>"
   ]
  },
  {
   "cell_type": "markdown",
   "metadata": {},
   "source": [
    "<b>For every cluster, use a subclustering algorithm to cluster based on theta</b>"
   ]
  },
  {
   "cell_type": "code",
   "execution_count": 15,
   "metadata": {
    "collapsed": false
   },
   "outputs": [],
   "source": [
    "theta_centers = []\n",
    "subclusters = []\n",
    "#For each cluster\n",
    "for j in clusters:\n",
    "    T = clusters[j]['l'].as_matrix()\n",
    "    #Tuning k-parameter for kmeans\n",
    "    T = T.reshape(-1, 1)\n",
    "#     avg_vars = []\n",
    "#     vigil = 0.008\n",
    "#     avg_vars = []\n",
    "#     c=1\n",
    "#     # for c in clusters_:\n",
    "#     #     var = 0\n",
    "#     #     kmeans = MiniBatchKMeans(n_clusters=c, max_no_improvement=None)\n",
    "#     #     kmeans.fit(X)\n",
    "#     #     avg_vars.append(kmeans.inertia_)\n",
    "#     init = True\n",
    "#     diff = 1\n",
    "#     while diff>= vigil:\n",
    "#         t_kmeans = MiniBatchKMeans(n_clusters=c, max_no_improvement=None)\n",
    "#         t_kmeans.fit(T)\n",
    "#         avg_vars.append(t_kmeans.inertia_)\n",
    "#         if not init:\n",
    "#             diff = (avg_vars[-2]-avg_vars[-1])\n",
    "#         else:\n",
    "#             init=False\n",
    "#         c+=1\n",
    "#     c-= 1    \n",
    "\n",
    "#     avg_vars = np.array(avg_vars)\n",
    "#     selected = np.where(avg_vars == np.min(avg_vars))[0][0]\n",
    "#     plt.plot(range(1,c+1,1), avg_vars)\n",
    "#     plt.plot(c, avg_vars[selected],'.g')\n",
    "#     #End of tuning\n",
    "\n",
    "    subcluster = []\n",
    "    CLUSTERS = 3#selected\n",
    "    t_kmeans = MiniBatchKMeans(n_clusters=CLUSTERS)\n",
    "    t_kmeans.fit(T)\n",
    "    if hasattr(t_kmeans, 'labels_'):\n",
    "        t_pred = t_kmeans.labels_.astype(np.int)\n",
    "    else:\n",
    "        t_pred = kmeans.predict(T)\n",
    "    theta_centers.append(t_kmeans.cluster_centers_)\n",
    "    for i in range(CLUSTERS):\n",
    "            item = np.where(t_kmeans.labels_== i)\n",
    "            s = clusters[j].ix[item]\n",
    "            subcluster.append(s)\n",
    "        \n",
    "    subclusters.append(subcluster)"
   ]
  },
  {
   "cell_type": "markdown",
   "metadata": {},
   "source": [
    "<b>Count for every subcluster and resetting indexes</b>"
   ]
  },
  {
   "cell_type": "code",
   "execution_count": 16,
   "metadata": {
    "collapsed": false
   },
   "outputs": [],
   "source": [
    "for i in range(len(subclusters)):\n",
    "    for j in range(len(subclusters[i])):\n",
    "#         print(\"Count for subcluster {0}/{1} : {2}\".format(i,j,subclusters[i][j].count()[0]))\n",
    "        #Reset index trainingdf = trainingdf.set_index(np.arange(trainingdf.count()[0]))\n",
    "        subclusters[i][j] = subclusters[i][j].set_index(np.arange(subclusters[i][j].count()[0])) "
   ]
  },
  {
   "cell_type": "markdown",
   "metadata": {},
   "source": [
    "<b>Creating MARS models (one per SUB-cluster)</b>"
   ]
  },
  {
   "cell_type": "code",
   "execution_count": 17,
   "metadata": {
    "collapsed": false
   },
   "outputs": [],
   "source": [
    "#Fit an Earth model for each cluster\n",
    "# f, axarr = plt.subplots(10, 2,figsize=(35,35))\n",
    "models = [{} for i in range(len(subclusters))]\n",
    "\n",
    "for i in range(len(subclusters)):\n",
    "    for j in range(len(subclusters[i])):\n",
    "        tcluster = subclusters[i][j]\n",
    "        XX = tcluster['l'].as_matrix()\n",
    "        yy = tcluster['cardinality'].as_matrix()\n",
    "#         X_train, X_test, y_train, y_test = train_test_split(\n",
    "#              XX, yy, test_size=0.1, random_state=42)\n",
    "        model = Earth(max_degree=1)\n",
    "        model.fit(XX,yy)\n",
    "        models[i][j] = [model]"
   ]
  },
  {
   "cell_type": "markdown",
   "metadata": {},
   "source": [
    "<h2>Training phase</h2>"
   ]
  },
  {
   "cell_type": "code",
   "execution_count": 18,
   "metadata": {
    "collapsed": false
   },
   "outputs": [
    {
     "name": "stdout",
     "output_type": "stream",
     "text": [
      "Resulting training set : 32000\n",
      "Resulting testing set : 8000\n"
     ]
    }
   ],
   "source": [
    "testingdf = trainingdf.sample(frac=.2)\n",
    "trainingdf = trainingdf.drop(testingdf.index)\n",
    "print(\"Resulting training set : {0}\\nResulting testing set : {1}\".format(trainingdf.count()[0], testingdf.count()[0]))"
   ]
  },
  {
   "cell_type": "code",
   "execution_count": 19,
   "metadata": {
    "collapsed": true
   },
   "outputs": [],
   "source": [
    "trainingdf = trainingdf.set_index(np.arange(trainingdf.count()[0]))\n",
    "testingdf = testingdf.set_index(np.arange(testingdf.count()[0]))"
   ]
  },
  {
   "cell_type": "code",
   "execution_count": 20,
   "metadata": {
    "collapsed": true
   },
   "outputs": [],
   "source": [
    "online = trainingdf.as_matrix()"
   ]
  },
  {
   "cell_type": "markdown",
   "metadata": {},
   "source": [
    "<h3>Switch Between Scenarios</h3>"
   ]
  },
  {
   "cell_type": "code",
   "execution_count": 21,
   "metadata": {
    "collapsed": true
   },
   "outputs": [],
   "source": [
    "selected_scenario = 2"
   ]
  },
  {
   "cell_type": "markdown",
   "metadata": {},
   "source": [
    "<b>Scenario 2</b>\n",
    "- Go to closest clusterhead \n",
    "$$w_k = argmin_k \\lVert \\mathbf{w}_k - \\mathbf{x'} \\rVert $$ \n",
    "- Go to theta clusterhead with the miunimum prediction error and distance from query's theta. <b>Lambda</b> is a tunable parameter\n",
    "$$\\theta_{k,j} = argmin_j  \\lambda(\\theta'-\\theta_{k,j})^2 + (1-\\lambda)(\\hat{y_{k,j}} - y')^2$$"
   ]
  },
  {
   "cell_type": "code",
   "execution_count": 22,
   "metadata": {
    "collapsed": false
   },
   "outputs": [
    {
     "name": "stdout",
     "output_type": "stream",
     "text": [
      "Executing Scenario 2\n"
     ]
    }
   ],
   "source": [
    "if selected_scenario == 2:\n",
    "    print(\"Executing Scenario 2\")\n",
    "    #Reset cluster centers as well\n",
    "    ALPHA = 0.01\n",
    "    LAMBDA = 0.5\n",
    "    subclusters_copy = copy.deepcopy(subclusters)\n",
    "    theta_centers_copy = copy.deepcopy(theta_centers) #theta positions (multiple for each clusterhead)\n",
    "    cluster_centers = copy.copy(kmeans.cluster_centers_) # x posistions of clusterheads\n",
    "    new_models = copy.deepcopy(models)\n",
    "    n_s = 20\n",
    "    t = 1 # every 20 , retrain ONLY affected MARS models\n",
    "    affected = [] #Keep a list of affected models to retrain only them\n",
    "    keys = ['x','y','l','cardinality']\n",
    "    traces_centers = []\n",
    "    traces_centers.append(cluster_centers) # Initialize Positions\n",
    "    traces_theta = []\n",
    "    traces_theta.append(theta_centers_copy)\n",
    "    trace_affected_x = []\n",
    "    trace_affected_y = []\n",
    "    additions = [] # 6 dimensional qx, qy, ql , cx, cy, cl (q=query, c=clusterhead)\n",
    "    side_experiment_counter = 0\n",
    "    for q in online:\n",
    "        dist = np.linalg.norm(cluster_centers - q[:2],axis=1) #Calculate distances between all neurons\n",
    "        closest_x = np.argmin(dist)\n",
    "        #Scenario 2 Go to closest X and then to theta with lowest error\n",
    "        dist_t = ((theta_centers_copy[closest_x]-q[2])**2).T\n",
    "        preds = []\n",
    "        for m in new_models[closest_x]:\n",
    "            preds.append(float(new_models[closest_x][m][-1].predict([q[2]])))\n",
    "    #     preds = [float(new_models[m][-1].predict([q[2]])) for m in new_models] #Prediction for each latest model\n",
    "        preds = np.array(preds)\n",
    "        errors = np.sqrt((preds-q[3])**2) #Error between prediction and each model (y-y_hat)**2\n",
    "        #Normalize errors\n",
    "        errors = (errors-min_tot_data) / (max_tot_data-min_tot_data)\n",
    "    #     total_distance = dist.reshape(len(subclusters),1) + dist_t # Distance from x  + distance from theta cluster\n",
    "    #     errors = errors.reshape((len(subclusters),len(subclusters[0])))\n",
    "    #     tot_error = 0.3*(total_distance) + 0.7*(errors) #Total error\n",
    "    #     closest = np.unravel_index(tot_error.argmin(), tot_error.shape)\n",
    "        total_distance = LAMBDA*dist_t +  (1-LAMBDA)*errors # Distance from x  + distance from theta cluster\n",
    "        closest_t = np.argmin(total_distance)\n",
    "        closest = (closest_x, closest_t)\n",
    "        #Side experiment : number of times closest distance wise gives smallest prediction error\n",
    "        distwise = np.argmin(dist_t)\n",
    "        errorwise = np.argmin(errors)\n",
    "        side_experiment_counter+= distwise==errorwise\n",
    "        #Adding to cluster\n",
    "        dictionarize = dict(zip(keys, q.T))\n",
    "        subclusters_copy[closest[0]][closest[1]] = subclusters_copy[closest[0]][closest[1]].append(dictionarize, \n",
    "                                                                                                   ignore_index=True)\n",
    "        #Readjust theta\n",
    "        theta_centers_copy[closest[0]][closest[1]] += ALPHA*(q[2] - theta_centers_copy[closest[0]][closest[1]])\n",
    "        traces_theta.append(copy.copy(theta_centers_copy))\n",
    "        trace_affected_x.append(closest[0])\n",
    "        trace_affected_y.append(closest[1])\n",
    "        #Retraining every n_s steps\n",
    "        affected.append(closest)\n",
    "        if (t%n_s)==0:\n",
    "            for tpl in set(affected):\n",
    "                model = Earth(max_degree=1)\n",
    "                xtrain_o = subclusters_copy[tpl[0]][tpl[1]]['l'].as_matrix()\n",
    "                ytrain_o = subclusters_copy[tpl[0]][tpl[1]]['cardinality'].as_matrix()\n",
    "    #             #Readjusting clusterhead\n",
    "    #             #Cannot extract mean of each subcluster, need to store sum and count for each and then compute mean.\n",
    "    #             cluster_centers[tpl[0]] = pd.concat(subclusters_copy[tpl[0]]).mean()[:2]\n",
    "    #             traces_centers.append(copy.copy(cluster_centers))\n",
    "                new_models[tpl[0]][tpl[1]].append(model.fit(xtrain_o, ytrain_o)) #Append a new model\n",
    "            affected = []\n",
    "        t+=1"
   ]
  },
  {
   "cell_type": "code",
   "execution_count": 23,
   "metadata": {
    "collapsed": false
   },
   "outputs": [
    {
     "name": "stdout",
     "output_type": "stream",
     "text": [
      "1.91228070175\n"
     ]
    }
   ],
   "source": [
    "avg_lines = 0\n",
    "count = 0\n",
    "for i in new_models:\n",
    "    for j in i:\n",
    "        avg_lines += (i[j][-1].coef_.shape[1])-1\n",
    "        count+=1\n",
    "print(avg_lines/float(count))"
   ]
  },
  {
   "cell_type": "markdown",
   "metadata": {},
   "source": [
    "<h2>Evaluation of advanced clustering algorithm on prediction</h2>"
   ]
  },
  {
   "cell_type": "code",
   "execution_count": 23,
   "metadata": {
    "collapsed": true
   },
   "outputs": [],
   "source": [
    "onlinetest = testingdf.as_matrix()"
   ]
  },
  {
   "cell_type": "code",
   "execution_count": 24,
   "metadata": {
    "collapsed": false
   },
   "outputs": [
    {
     "name": "stdout",
     "output_type": "stream",
     "text": [
      "R2 : 0.999174453985\n",
      "MSE: 11862.7892862\n"
     ]
    }
   ],
   "source": [
    "y_pred = []\n",
    "y_actual = onlinetest[:,3]\n",
    "for q in onlinetest:\n",
    "    dist = np.linalg.norm(cluster_centers - q[:2],axis=1) #Calculate distances between all neurons\n",
    "    closest_x = np.argmin(dist)\n",
    "    dist_t = (theta_centers_copy[closest_x]-q[2])**2\n",
    "    closest_t = np.argmin(dist_t)\n",
    "    y_hat = new_models[closest_x][closest_t][-1].predict([q[2]])\n",
    "    y_pred.append(y_hat[0])\n",
    "y_pred = np.array(y_pred)\n",
    "print(\"R2 : {0}\\nMSE: {1}\".format(metrics.r2_score(y_actual, y_pred), np.sqrt(metrics.mean_squared_error(y_actual, y_pred))))"
   ]
  },
  {
   "cell_type": "code",
   "execution_count": 25,
   "metadata": {
    "collapsed": true
   },
   "outputs": [],
   "source": [
    "qs = testingdf[['x','y','l']].as_matrix()\n",
    "data_asm = data.as_matrix()"
   ]
  },
  {
   "cell_type": "code",
   "execution_count": 26,
   "metadata": {
    "collapsed": true
   },
   "outputs": [],
   "source": [
    "y_Tests = []\n",
    "sub_thetas = 10\n",
    "for q in qs:\n",
    "    l_denorm = q[2]*(lmax - lmin) + lmin\n",
    "    squeries = np.linspace(lmin, l_denorm, sub_thetas)\n",
    "    y_Test_a = []\n",
    "    distances_for_y = np.sqrt(np.sum(np.power(data_asm-q[:2],2),axis=1))\n",
    "    for theta in squeries:\n",
    "        dist_filter = distances_for_y[distances_for_y < theta]\n",
    "        y_real = len(dist_filter)\n",
    "        y_Test_a.append(y_real)\n",
    "    y_Test_a = np.array(y_Test_a)\n",
    "    y_Tests.append(y_Test_a)"
   ]
  },
  {
   "cell_type": "markdown",
   "metadata": {},
   "source": [
    "<h2>Begining evaluation on explanations</h2>"
   ]
  },
  {
   "cell_type": "code",
   "execution_count": 29,
   "metadata": {
    "collapsed": false
   },
   "outputs": [
    {
     "name": "stderr",
     "output_type": "stream",
     "text": [
      "/home/fotis/.local/lib/python2.7/site-packages/scipy/stats/_distn_infrastructure.py:2505: RuntimeWarning: invalid value encountered in true_divide\n",
      "  pk = 1.0*pk / np.sum(pk, axis=0)\n",
      "/home/fotis/.local/lib/python2.7/site-packages/ipykernel/__main__.py:113: RuntimeWarning: divide by zero encountered in double_scalars\n",
      "/home/fotis/.local/lib/python2.7/site-packages/ipykernel/__main__.py:120: RuntimeWarning: divide by zero encountered in divide\n",
      "/home/fotis/.local/lib/python2.7/site-packages/ipykernel/__main__.py:121: RuntimeWarning: divide by zero encountered in double_scalars\n",
      "/home/fotis/.local/lib/python2.7/site-packages/ipykernel/__main__.py:122: RuntimeWarning: invalid value encountered in double_scalars\n",
      "/home/fotis/.local/lib/python2.7/site-packages/ipykernel/__main__.py:121: RuntimeWarning: invalid value encountered in double_scalars\n",
      "/home/fotis/.local/lib/python2.7/site-packages/ipykernel/__main__.py:120: RuntimeWarning: divide by zero encountered in double_scalars\n"
     ]
    }
   ],
   "source": [
    "probs = []\n",
    "avg_relative_error = 0\n",
    "sub_thetas = 10\n",
    "query_index = 0 \n",
    "import time\n",
    "#For all queries in testingdf\n",
    "for q in qs:\n",
    "\n",
    "    dist = np.linalg.norm(cluster_centers - q[:2],axis=1) #Calculate distances between all neurons\n",
    "    closest_x = np.argmin(dist)\n",
    "\n",
    "    y_Test_a = y_Tests[query_index]\n",
    "    #Execute thetas and get actual y for stationary query\n",
    "    l_denorm = q[2]*(lmax - lmin) + lmin\n",
    "    squeries = np.linspace(lmin, l_denorm, sub_thetas)\n",
    "    #Normalize squeries\n",
    "    squeries = (squeries - lmin) / (lmax - lmin)\n",
    "    #Create PLR for GOD\n",
    "    model_god = Earth(max_degree=1, penalty=0, enable_pruning=False, max_terms=sub_thetas)\n",
    "    model_god.fit(squeries, y_Test_a)\n",
    "    god_predi = model_god.predict(squeries)\n",
    "#     print(model_god.summary())\n",
    "    #Create subqueries to be executed\n",
    "    #Each query is executed from the same position but with a lesser theta\n",
    "    mqueries = np.matrix([q] * sub_thetas)\n",
    "    qqs = squeries.reshape((sub_thetas,1))\n",
    "    mqueries[:,2] = 0\n",
    "    mqueries[:,2] = qqs  \n",
    "    #ME MARS MODEL\n",
    "    #Change of strategy get closest model for each lesser theta.\n",
    "    y_predi_c = []\n",
    "    start_time = time.time()\n",
    "    closests = []\n",
    "    for theta in squeries:\n",
    "        dist_t = (theta_centers_copy[closest_x]-theta)**2\n",
    "        closest_t = np.argmin(dist_t)\n",
    "        closests.append(closest_t)\n",
    "        prediction = float(new_models[closest_x][closest_t][-1].predict([theta]))\n",
    "        if prediction>0:\n",
    "            y_predi_c.append(prediction)\n",
    "        else:\n",
    "            y_predi_c.append(0)\n",
    "    t_of_execution_me = time.time() - start_time\n",
    "    \n",
    "\n",
    "    y_predi_c = np.array(y_predi_c)\n",
    "     \n",
    "    #knn  \n",
    "    i = 0\n",
    "    start_time = time.time()\n",
    "    lr = LinearRegression()\n",
    "    lr.fit(squeries.reshape(-1,1), y_Test_a)  \n",
    "    knn_predi = lr.predict(squeries.reshape(-1,1))\n",
    "#     cc = clusters[closest_x].as_matrix()\n",
    "#     for m in mqueries :        \n",
    "#         dist_for_qs = np.sqrt(np.sum(np.power(cc[:,:3]-m,2),axis=1))\n",
    "#         sorted_indices = np.argsort(dist_for_qs.flatten())\n",
    "#         knn_predi.append(np.mean(np.squeeze(cc[sorted_indices])[:k_nn,3]))\n",
    "#         i+=1\n",
    "#     knn_predi = np.array(knn_predi)\n",
    "    t_of_execution_knn = time.time() - start_time\n",
    "    \n",
    "#     knn_predi = knn_predi*(max_of_cardinality - min_of_cardinality) + min_of_cardinality\n",
    "    #Evaluation Scores\n",
    "    coefs_me = []\n",
    "    coefs_g = []\n",
    "    coefs_a = []\n",
    "    coefs_l = []\n",
    "    #Slope of god\n",
    "    for i in range(1,len(god_predi[1:])):\n",
    "        #Slope\n",
    "        paronomastis = squeries[i] - squeries[i-1]\n",
    "        arithmitis = y_Test_a[i] - y_Test_a[i-1]\n",
    "        #Predicted_slope\n",
    "        arithmitis_me = y_predi_c[i] - y_predi_c[i-1]\n",
    "        arithmitis_knn = knn_predi[i] - knn_predi[i-1]\n",
    "        arithmitis_g = god_predi[i] - god_predi[i-1]\n",
    "        v = arithmitis/paronomastis\n",
    "        coefs_a.append(v)\n",
    "        vapprox_m = arithmitis_me/paronomastis\n",
    "        coefs_me.append(vapprox_m)\n",
    "        vapprox_knn = arithmitis_knn/paronomastis\n",
    "        coefs_l.append(vapprox_knn)\n",
    "        vapprox_g = arithmitis_g/paronomastis\n",
    "        coefs_g.append(vapprox_g)        \n",
    "\n",
    "    \n",
    "    coefs_me = np.array(coefs_me).reshape(1,-1)\n",
    "    coefs_g = np.array(coefs_g).reshape(1,-1)\n",
    "    coefs_a = np.array(coefs_a).reshape(1,-1)\n",
    "    coefs_l = np.array(coefs_l).reshape(1,-1)\n",
    "    #Cosine Similarity between coefficients\n",
    "    cos_coef_m = float(metrics.pairwise.cosine_similarity(coefs_me, coefs_a))\n",
    "    cos_coef_g = float(metrics.pairwise.cosine_similarity(coefs_g, coefs_a))\n",
    "    cos_coef_l = float(metrics.pairwise.cosine_similarity(coefs_l, coefs_a))\n",
    "\n",
    "    \n",
    "    \n",
    "    #KL-divergence metric\n",
    "    #Transforming to probabilties\n",
    "    p_actual = np.histogram(y_Test_a)[0]/10.0\n",
    "    p_me = np.histogram(y_predi_c)[0]/10.0\n",
    "    p_g = np.histogram(god_predi)[0]/10.0\n",
    "    p_lin = np.histogram(knn_predi)[0]/10.0\n",
    "    mask_me = np.where(p_me!=0)\n",
    "    mask_g = np.where(p_g!=0)\n",
    "    mask_l = np.where(p_lin!=0)\n",
    "\n",
    "    kl_divergence = entropy(p_actual[mask_me], p_me[mask_me])\n",
    "    kl_div_g = entropy(p_actual[mask_g], p_g[mask_g])\n",
    "    kl_div_knn = entropy(p_actual[mask_l], p_lin[mask_l])\n",
    "    entropy_p = entropy(p_actual)\n",
    "    scaler = 1.0/entropy_p\n",
    "\n",
    "    #R2 scores\n",
    "    knn_r2_score = metrics.r2_score(y_Test_a, knn_predi )\n",
    "    me_r2_score = metrics.r2_score(y_Test_a, y_predi_c)\n",
    "    god_r2_score = metrics.r2_score(y_Test_a, god_predi)\n",
    "    \n",
    "    new_metric_m = 1 - ((np.sum(np.abs(y_Test_a - y_predi_c)))/(np.sum(np.abs(y_Test_a - np.mean(y_Test_a)))))\n",
    "    new_metric_g = 1 - ((np.sum(np.abs(y_Test_a - god_predi)))/(np.sum(np.abs(y_Test_a - np.mean(y_Test_a)))))\n",
    "    new_metric_knn = 1 - ((np.sum(np.abs(y_Test_a - knn_predi)))/(np.sum(np.abs(y_Test_a - np.mean(y_Test_a)))))\n",
    "\n",
    "\n",
    "    probs.append([closest_x, closest_t, me_r2_score, god_r2_score, knn_r2_score, \n",
    "                  new_metric_m, new_metric_g, new_metric_knn,\n",
    "                  cos_coef_m, cos_coef_g, cos_coef_l,\n",
    "                  kl_divergence, kl_div_g, kl_div_knn,entropy_p, scaler,\n",
    "                  t_of_execution_me, t_of_execution_knn, q[0], q[1], q[2], np.var(y_Test_a)])\n",
    "    query_index+=1"
   ]
  },
  {
   "cell_type": "code",
   "execution_count": 30,
   "metadata": {
    "collapsed": true
   },
   "outputs": [],
   "source": [
    "sdf = pd.DataFrame(data=np.array(probs), index=range(len(probs)), columns=['closest_x','closest_t','r2_me','r2_god','r2_knn',\n",
    "                                                                           'new_metric_m','new_metric_g', 'new_metric_knn',\n",
    "                                                                           'cos_coef_m','cos_coef_g', 'cos_coef_l',\n",
    "                                                                           'KL_m','kl_g','kl_knn',\n",
    "                                                                           'entropy_p','scaler'\n",
    "                                                                           ,'time_me','time_knn',\n",
    "                                                                           'x','y','l', 'variance'])"
   ]
  },
  {
   "cell_type": "code",
   "execution_count": 31,
   "metadata": {
    "collapsed": false
   },
   "outputs": [
    {
     "data": {
      "text/plain": [
       "closest_x         4.500000e+01\n",
       "closest_t         1.000000e+00\n",
       "r2_me             9.743649e-01\n",
       "r2_god            9.723777e-01\n",
       "r2_knn            9.725731e-01\n",
       "new_metric_m      8.719953e-01\n",
       "new_metric_g      8.342587e-01\n",
       "new_metric_knn    8.344105e-01\n",
       "cos_coef_m        9.501538e-01\n",
       "cos_coef_g        9.333816e-01\n",
       "cos_coef_l        9.333816e-01\n",
       "KL_m              1.365002e-01\n",
       "kl_g              2.772589e-01\n",
       "kl_knn            2.772589e-01\n",
       "entropy_p         2.025326e+00\n",
       "scaler            4.937476e-01\n",
       "time_me           6.368160e-04\n",
       "time_knn          2.291203e-04\n",
       "x                 7.782682e-01\n",
       "y                 2.725859e-01\n",
       "l                 4.994541e-01\n",
       "variance          8.552966e+09\n",
       "dtype: float64"
      ]
     },
     "execution_count": 31,
     "metadata": {},
     "output_type": "execute_result"
    }
   ],
   "source": []
  },
  {
   "cell_type": "code",
   "execution_count": 32,
   "metadata": {
    "collapsed": true
   },
   "outputs": [],
   "source": [
    "sdf.to_csv(path_or_buf='/home/fotis/Dropbox/PhD/10.July - 2017/eval_results/eval_uni_uni.csv')"
   ]
  },
  {
   "cell_type": "code",
   "execution_count": null,
   "metadata": {
    "collapsed": true
   },
   "outputs": [],
   "source": [
    "sdf['cardinality'] = testingdf['cardinality']\n",
    "# sdf['mse'] = sdf.apply(lambda x: np.sqrt(new_models[int(x['closest_x'])][int(x['closest_t'])][-1].mse_), axis=1)"
   ]
  },
  {
   "cell_type": "code",
   "execution_count": null,
   "metadata": {
    "collapsed": true
   },
   "outputs": [],
   "source": [
    "sdf = sdf.replace([np.inf, -np.inf], np.nan).dropna()"
   ]
  },
  {
   "cell_type": "code",
   "execution_count": null,
   "metadata": {
    "collapsed": false
   },
   "outputs": [],
   "source": [
    "sdf.count()"
   ]
  }
 ],
 "metadata": {
  "kernelspec": {
   "display_name": "Python 2",
   "language": "python",
   "name": "python2"
  },
  "language_info": {
   "codemirror_mode": {
    "name": "ipython",
    "version": 2
   },
   "file_extension": ".py",
   "mimetype": "text/x-python",
   "name": "python",
   "nbconvert_exporter": "python",
   "pygments_lexer": "ipython2",
   "version": "2.7.12"
  }
 },
 "nbformat": 4,
 "nbformat_minor": 2
}
